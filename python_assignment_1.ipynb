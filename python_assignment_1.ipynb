{
  "nbformat": 4,
  "nbformat_minor": 0,
  "metadata": {
    "colab": {
      "name": "python_assignment_1.ipynb",
      "provenance": [],
      "collapsed_sections": []
    },
    "kernelspec": {
      "name": "python3",
      "display_name": "Python 3"
    }
  },
  "cells": [
    {
      "cell_type": "markdown",
      "metadata": {
        "id": "X4x7BVTU35C-",
        "colab_type": "text"
      },
      "source": [
        "# Assignment 1"
      ]
    },
    {
      "cell_type": "markdown",
      "metadata": {
        "id": "qs8hnFUYBxCE",
        "colab_type": "text"
      },
      "source": [
        "###  Task 1:\n"
      ]
    },
    {
      "cell_type": "markdown",
      "metadata": {
        "id": "04VmzGfJBr39",
        "colab_type": "text"
      },
      "source": [
        "1. Install Jupyter notebook and run the first program and share the screenshot of the output.\n"
      ]
    },
    {
      "cell_type": "code",
      "metadata": {
        "id": "fohgRZnH394o",
        "colab_type": "code",
        "outputId": "5683c67a-75a7-4650-b62c-aee9ef86d54c",
        "colab": {
          "base_uri": "https://localhost:8080/",
          "height": 51
        }
      },
      "source": [
        "def first_program():\n",
        "  print(\"Hello everyone\")\n",
        "  print(\"This is the output of first program\")\n",
        "\n",
        "\n",
        "first_program()"
      ],
      "execution_count": 0,
      "outputs": [
        {
          "output_type": "stream",
          "text": [
            "Hello everyone\n",
            "This is the output of first program\n"
          ],
          "name": "stdout"
        }
      ]
    },
    {
      "cell_type": "markdown",
      "metadata": {
        "id": "vdXk6UKzCPdU",
        "colab_type": "text"
      },
      "source": [
        "2.\n",
        "Write a program which will find all such numbers which are divisible by 7 but are not a multiple\n",
        "of 5, between 2000 and 3200 (both included). The numbers obtained should be printed in a\n",
        "comma-separated sequence on a single line.\n"
      ]
    },
    {
      "cell_type": "code",
      "metadata": {
        "id": "1By11fRlCKfd",
        "colab_type": "code",
        "outputId": "d945709f-7718-448d-b341-932ba97ed963",
        "colab": {
          "base_uri": "https://localhost:8080/",
          "height": 54
        }
      },
      "source": [
        "def is_divisible():\n",
        "  l = []\n",
        "  for number in range(2000, 3201):\n",
        "    if (number % 7 == 0) and (number % 5 != 0):\n",
        "      l.append(number) \n",
        "  print(l)\n",
        "\n",
        "is_divisible()"
      ],
      "execution_count": 0,
      "outputs": [
        {
          "output_type": "stream",
          "text": [
            "[2002, 2009, 2016, 2023, 2037, 2044, 2051, 2058, 2072, 2079, 2086, 2093, 2107, 2114, 2121, 2128, 2142, 2149, 2156, 2163, 2177, 2184, 2191, 2198, 2212, 2219, 2226, 2233, 2247, 2254, 2261, 2268, 2282, 2289, 2296, 2303, 2317, 2324, 2331, 2338, 2352, 2359, 2366, 2373, 2387, 2394, 2401, 2408, 2422, 2429, 2436, 2443, 2457, 2464, 2471, 2478, 2492, 2499, 2506, 2513, 2527, 2534, 2541, 2548, 2562, 2569, 2576, 2583, 2597, 2604, 2611, 2618, 2632, 2639, 2646, 2653, 2667, 2674, 2681, 2688, 2702, 2709, 2716, 2723, 2737, 2744, 2751, 2758, 2772, 2779, 2786, 2793, 2807, 2814, 2821, 2828, 2842, 2849, 2856, 2863, 2877, 2884, 2891, 2898, 2912, 2919, 2926, 2933, 2947, 2954, 2961, 2968, 2982, 2989, 2996, 3003, 3017, 3024, 3031, 3038, 3052, 3059, 3066, 3073, 3087, 3094, 3101, 3108, 3122, 3129, 3136, 3143, 3157, 3164, 3171, 3178, 3192, 3199]\n"
          ],
          "name": "stdout"
        }
      ]
    },
    {
      "cell_type": "markdown",
      "metadata": {
        "id": "PKP4kzRpDnKJ",
        "colab_type": "text"
      },
      "source": [
        "3.\n",
        "Write a Python program to accept the user's first and last name and then getting them printed in\n",
        "the the reverse order with a space between first name and last name.\n"
      ]
    },
    {
      "cell_type": "code",
      "metadata": {
        "id": "AAIU92hNC9uq",
        "colab_type": "code",
        "outputId": "d35c6a47-687d-4c63-96da-7e8b5b5a0519",
        "colab": {
          "base_uri": "https://localhost:8080/",
          "height": 68
        }
      },
      "source": [
        "def name():\n",
        "  first_name = input(f\"Enter first name: \")\n",
        "  last_name = input(f\"Enter last name: \")\n",
        "\n",
        "  print(last_name + \" \" + first_name)\n",
        "\n",
        "name()"
      ],
      "execution_count": 0,
      "outputs": [
        {
          "output_type": "stream",
          "text": [
            "Enter first name: Aditya\n",
            "Enter last name: Adarsh\n",
            "Adarsh Aditya\n"
          ],
          "name": "stdout"
        }
      ]
    },
    {
      "cell_type": "markdown",
      "metadata": {
        "id": "5bF4qfqpDp_E",
        "colab_type": "text"
      },
      "source": [
        "4.\n",
        "Write a Python program to find the volume of a sphere with diameter 12 cm.\n",
        "Formula: V=4/3 * π * r\n",
        "3"
      ]
    },
    {
      "cell_type": "code",
      "metadata": {
        "id": "Q8Vv_5GtDqcL",
        "colab_type": "code",
        "colab": {}
      },
      "source": [
        "import numpy as np\n",
        "\n",
        "class VOLUME_OF_SPHERE:\n",
        "    \n",
        "    def __init__(self, diameter):\n",
        "        self.diameter = diameter\n",
        "        self.pi = np.pi\n",
        "\n",
        "    def volume(self):\n",
        "        v = (4/3) * pi * (self.diameter/2)**3\n",
        "        print(f\"Volume of sphere with diameter {self.diameter} is {round(v,3)} cm\")\n",
        "        "
      ],
      "execution_count": 0,
      "outputs": []
    },
    {
      "cell_type": "code",
      "metadata": {
        "id": "8hFrXiRLK5GP",
        "colab_type": "code",
        "outputId": "a36591e5-5bbe-412e-e668-802ea7cdca06",
        "colab": {
          "base_uri": "https://localhost:8080/",
          "height": 34
        }
      },
      "source": [
        "obj = VOLUME_OF_SPHERE(diameter= 12)\n",
        "obj.volume()"
      ],
      "execution_count": 0,
      "outputs": [
        {
          "output_type": "stream",
          "text": [
            "Volume of sphere with diameter 12 is 904.779 cm\n"
          ],
          "name": "stdout"
        }
      ]
    },
    {
      "cell_type": "markdown",
      "metadata": {
        "id": "M4bm6WcKMuCX",
        "colab_type": "text"
      },
      "source": [
        "## Task 2:"
      ]
    },
    {
      "cell_type": "markdown",
      "metadata": {
        "id": "hefSNIRDMxBI",
        "colab_type": "text"
      },
      "source": [
        "1.\n",
        "Write a program which accepts a sequence of comma-separated numbers from console and\n",
        "generate a list.\n"
      ]
    },
    {
      "cell_type": "code",
      "metadata": {
        "id": "SCynBzw2NIRK",
        "colab_type": "code",
        "outputId": "e144ffcc-d8a6-4cf1-f696-d074245480b4",
        "colab": {
          "base_uri": "https://localhost:8080/",
          "height": 51
        }
      },
      "source": [
        "def list_generate():\n",
        "\n",
        "    temp =input(f\"Enter the numbers seperated by comma: \")\n",
        "    list_of_num = list(map(int, temp.split(\",\")))\n",
        "    print(f\"list of numbers: {list_of_num}\")\n",
        "\n",
        "list_generate()"
      ],
      "execution_count": 0,
      "outputs": [
        {
          "output_type": "stream",
          "text": [
            "Enter the numbers seperated by comma: 1,2,3,4,5\n",
            "list of numbers: [1, 2, 3, 4, 5]\n"
          ],
          "name": "stdout"
        }
      ]
    },
    {
      "cell_type": "markdown",
      "metadata": {
        "id": "3Fat8nuAPAP4",
        "colab_type": "text"
      },
      "source": [
        "2.\n",
        "\n",
        "![image.png](data:image/png;base64,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)"
      ]
    },
    {
      "cell_type": "code",
      "metadata": {
        "id": "UHR8IKFvosuw",
        "colab_type": "code",
        "colab": {
          "base_uri": "https://localhost:8080/",
          "height": 34
        },
        "outputId": "9a24ff9f-5d25-4b4f-c422-5440fad7a743"
      },
      "source": [
        "\"\"\"\n",
        "2.\n",
        "Create the below pattern using nested for loop in Python.\n",
        "*\n",
        "* *\n",
        "* * *\n",
        "* * * *\n",
        "* * * * *\n",
        "* * * *\n",
        "* * *\n",
        "* \n",
        "\"\"\""
      ],
      "execution_count": 1,
      "outputs": [
        {
          "output_type": "execute_result",
          "data": {
            "text/plain": [
              "'\\n2.\\nCreate the below pattern using nested for loop in Python.\\n*\\n* *\\n* * *\\n* * * *\\n* * * * *\\n* * * *\\n* * *\\n* \\n'"
            ]
          },
          "metadata": {
            "tags": []
          },
          "execution_count": 1
        }
      ]
    },
    {
      "cell_type": "code",
      "metadata": {
        "id": "41YBch70N7Wv",
        "colab_type": "code",
        "outputId": "722878be-ad94-41f8-c1c9-cfacd478ecee",
        "colab": {
          "base_uri": "https://localhost:8080/",
          "height": 170
        }
      },
      "source": [
        "def star(max_len_of_star=5):\n",
        "    \n",
        "    for i in range(1,max_len_of_star+1):\n",
        "        print(\"*\"*i)\n",
        "        if i==max_len_of_star:\n",
        "            for j in range(max_len_of_star-1,0,-1):\n",
        "                print('*'*j)\n",
        "\n",
        "star(5)"
      ],
      "execution_count": 0,
      "outputs": [
        {
          "output_type": "stream",
          "text": [
            "*\n",
            "**\n",
            "***\n",
            "****\n",
            "*****\n",
            "****\n",
            "***\n",
            "**\n",
            "*\n"
          ],
          "name": "stdout"
        }
      ]
    },
    {
      "cell_type": "markdown",
      "metadata": {
        "id": "pGPi6UQQY58D",
        "colab_type": "text"
      },
      "source": [
        "3.\n",
        "Write a Python program to reverse a word after accepting the input from the user.\n"
      ]
    },
    {
      "cell_type": "code",
      "metadata": {
        "id": "7UzU0AkzY6Vy",
        "colab_type": "code",
        "outputId": "4bcb753b-739f-4e13-9ef8-b9bd126cfb79",
        "colab": {
          "base_uri": "https://localhost:8080/",
          "height": 51
        }
      },
      "source": [
        "def reverse_a_word():\n",
        "    word = input(f\"Enter a word: \")\n",
        "    print(f\"Reverese of word '{word}' is {word[::-1]}\")\n",
        "\n",
        "reverse_a_word()"
      ],
      "execution_count": 0,
      "outputs": [
        {
          "output_type": "stream",
          "text": [
            "Enter a word: reverse\n",
            "Reverese of word 'reverse' is esrever\n"
          ],
          "name": "stdout"
        }
      ]
    },
    {
      "cell_type": "markdown",
      "metadata": {
        "id": "fpQlxegcZjyZ",
        "colab_type": "text"
      },
      "source": [
        "4.\n",
        "\n",
        "![image.png](data:image/png;base64,iVBORw0KGgoAAAANSUhEUgAAApcAAAFECAYAAAByLhWNAAAgAElEQVR4Aey9B7QUxfa+jSLmBJgQM5hRVMyCOWACFRUDYk6YMAdUVDCCCpgVQVExJ1RwmcEcrgExiwh/8zVdlWtAV33rqe/u+dWp0zPdfZg5cxjeWmvOzJnprvBU1a63dlV3N3MKIiACIiACIiACIiACIlAmAs3KFI+iEQEREAEREAEREAEREAEncalGIAIiIAIiIAIiIAIiUDYCEpdlQ6mIREAEREAEREAEREAEJC7VBkRABERABERABERABMpGQOKybCgVkQiIgAiIgAiIgAiIgMSl2oAIiIAIiIAIiIAIiEDZCEhclg2lIhIBERABERABERABEZC4VBsQAREQAREQAREQAREoGwGJy7KhVEQiIAIiIAIiIAIiIAISl2oDIiACIiACIiACIiACZSMgcVk2lIpIBERABERABERABERA4lJtQAREQAREQAREQAREoGwEJC7LhlIRiYAIiIAIiIAIiIAISFyqDYiACIiACIiACIiACJSNgMRl2VAqIhEQAREQAREQAREQAYlLtQEREAEREAEREAEREIGyEZC4LBtKRSQCIiACIiACIiACIiBxqTYgAiIgAiIgAiIgAiJQNgISl2VDqYhEQAREQAREQAREQAQkLtUGREAEREAEREAEREAEykagUcXlt99+68aOHet++eWXshVAEYmACIiACIiACIiACDQdAo0mLn/77TfXu3dv17ZtW/fee+81HQLKiQiIgAiIgAiIgAiIQNkINIq4/Oeff9yQIUPcwgsvLHFZtqpTRCIgAiIgAiIgAiLQ9Ag0irh89tln3dprr+369u3rVlppJXkum147UI5EQAREQAREQAREoCwEKi4up06d6jp37uwGDx7s7r77bonLslSbIhEBERABERABERCBpkmgouJy+vTp7tBDD3W9evVyv/76q7vnnnskLptmO1CuREAEREAEREAERKAsBComLtlnefXVV7uNN97YTZ482WdW4rIsdaZIREAEREAEREAERKDJEqiYuPzhhx/8cjgX8bRp08a/WrVq5Vq0aOGWWmopN2zYsCYLRRkTAREQAREQAREQARFoGIGKiUuWxG+44QbXr1+/wmvvvfd2LVu2dH369HHjx49vWI51lgiIgAiIgAiIgAiIQJMlUDFxmVTieFmcpfNx48a5Bx980P3xxx9Jp+g7ERABERABERABERCBWYhAVcXljBkz3O677+66dOnifvzxx1kIm7IqAiIgAiIgAiIgAiKQRKBRxWVSBvSdCIiACIiACIiACIhA7RCQuKydulRJREAEREAEREAERKDqBCQuq14FyoAIiIAIiIAIiIAI1A4BicvaqUuVRAREQAREQAREQASqTkDisupVoAyIgAiIgAiIgAiIQO0QkLisnbpUSURABERABERABESg6gQkLqteBcqACIiACIiACIiACNQOAYnL2qlLlUQEREAEREAEREAEqk5A4rLqVaAMiIAIiIAIiIAIiEDtEJC4rJ26VElEQAREQAREQAREoOoEJC6rXgXKgAiIgAiIgAiIgAjUDgGJy9qpS5VEBERABERABERABKpOQOKy6lWgDIiACIiACIiACIhA7RCQuKydulRJREAEREAEREAERKDqBCQuq14FyoAIiIAIiIAIiIAI1A4BicvaqUuVRAREQAREQAREQASqTkDisupVoAyIgAiIgAiIgAiIQO0QkLisnbpUSURABERABERABESg6gQkLqteBcqACIiACIiACIiACNQOAYnL2qlLlUQEREAEREAEREAEqk5A4rLqVaAMiIAIiIAIiIAIiEDtEJC4rJ26VElEQAREQAREQAREoOoEJC6rXgXKgAiIgAiIgAiIgAjUDgGJy9qpS5VEBERABERABERABKpOQOKy6lWgDIiACIiACIiACIhA7RCQuKydulRJREAEREAEREAERKDqBCQuq14FyoAIiIAIiIAIiIAI1A4BicvaqUuVRAREQAREQAREQASqTkDisupVoAyIgAiIgAiIgAiIQO0QqJi4/OOPP9y1117rRowY4f75558CsR9++MENGDDADR482P3666+F73///Xd39dVXu9GjR9c53g548cUX3cUXX2z/ui+++MJ99913hf8r/eGBBx5wffv2dSeccIJ/P/HEE90555zj7r//fvfbb79lSh4OH374oYPN33//7W666SZ31113JZY3U4Q5D/rll1/coEGDfBmsHCeffLK76KKL3CuvvNJo+ciZ7Zk6PGQ+UxHlODluq2mn0g8+/fTTooeFZahGu8lbnqIFqcAPaey++eYbd8EFF7i33367Aqk7N7NswvxXqm4ffvhht9NOO/nXm2++WREOeSMNy5333EoeH7cXbPuFF17ottxyS3fkkUe6oUOH+jGqoXn44IMP/Pg3derUelHEadc7IMMX4bhI27zkkkvcTz/9lOHMWfcQ7OPtt9/uGJPHjx/fJAqCNpkxY0bZ80Kcjal7ZqYAFROXVPgxxxzjNtxwQ/ftt98W8vjEE0+4li1buqWXXtq98cYbhe8ZXFdZZRXfeQtfBh8QnV27dvXfvPXWW65jx47u2WefDY6o3EfKcvzxx7sllljC7b333q5Xr17+tfPOO7tFF13U7bLLLu77779PzcCwYcO8keJYBGa3bt3cYYcd5oVm6sllOOCrr75y6667rltrrbUKZdhvv/3cJpts4hZaaCF36aWX1pzADJmXAWGmKMK2mnYCg+zuu+/uJyq0s6QQlqEa7SZPeZLyX6nvsrD75JNP3FZbbeXGjh1bkWzMDJs4/5Wo288//9ytttpqXlgy2ccGVDvE5a52fsL04/Zy9913u9atW3v7T10feuih7owzzghPyfX58ccfd+3bt3evvvpqvfPitOsdkPJFPC5ef/31rkOHDm7atGkpZ87aPzMpY0xu3ry5GzJkSFULwwThuOOOc9tuu20mTZAnsziAtt5665JjRZ74Kn1sxcQlGaczLrfccgURyeB5/vnnuw022MCtueaa7oYbbiiU75FHHnHLL7+89wQUvizyYcKECb6DNra4JN80njCY8WHmVCpQ9vPOO89tttlmvtFVYiAplT6/MbCst9567pRTTqkjIsnLEUcc4cV9KQ9aWvxN7feYeVPLH/n58ccf3RZbbOHOPvvsOnVieY3LUI12Y3lpau9p7JpafuP8xPmvRN1OnDjRtWvXzrHy0lRCXO6mkq+kfLCaxmS8XAKtlLhMSj/Pd/G4KHGZh155jh03bpxbeOGFvcMmi8Mpa6qMAyeddJIX0P369UscK7LG1VjHVVRcTpo0yRu2UaNG+fIwY8X7yHLygQce6Pbff3/vOgYconOjjTbyXk4EGx61PfbYwy2yyCLutNNOc/fdd5/bc8893Xvvvec23XRTN++887rVV1/d3XzzzT5ulhl69+7tPYnzzz+/n6mXWgp76qmnvEdjwQUXdC1atPCz+1tuuSWx0sgfnsskcclsc4UVVvD5P/fcc91RRx1VZ5kcN/1uu+3mvYLLLrus9xCyxPL66697z+Wuu+7qvaHkY/HFF3enn356YbsA6TIodOrUyc0999xuqaWWcixjs7WAAJODDz7Y9e/f37Vt29bNN998ni9LL0mhmLjk2FtvvdUtueSSXtwn8U/LC7PHkSNHeo7UTZcuXfxy5EEHHeSzgmjda6+9PEfS4fcvv/zSlaqHzz77zLO54oor3DrrrOPmmWcet/nmm/s8Uh94jfEqDBw40P3555/1iky7C5m/8847jq0B1NMyyyzj652ZPceR/6QAY9oq3orFFlvMtWrVytexTTKSWFlbJT4rA95Hq0c8SZw3ffp0L+oxRtTf4YcfXqh7y0tchizthi0mbH+gXdK2mcjddtttRcuYVndWHhjTPpmchLwfffRR732lrGlp522zX3/9tfcWsWpAu8JGPPbYY4nsqN+4jb388su+n9HOWFLCQLMtZ99993X0OdoP9gXbRKBvsWWEvojtYWWBF/WXFIwNv5Wq6/jcpLpnMGI1o5RNSOMbpvPSSy/5lSO4rbzyyn47D/VWyqYUa8/0YwY1bBDtlVUpll3xCtMv11hjDffkk08Wki/Wr+HMRLZUmycShBKTLuqIfr7PPvt4vlaH9GHsKrYeT+B1111XZxmSvLAiQ95oO7RZRC0BWzZmzBj/O2woE/GxBE4dUgessGF36EOkwYoPbFh6xUlgoVQ6HMM2hB122MHHwcocbQuxn+S5tLSztlXLA+9J4yLikjTZzsVKoY2L4fiQlv8wDezE8OHD/biLXSE+6p92YAFuG2+8sefOMaR/4403etsDX8ZHvHp40bGHNlY8//zzng11jZ1FI9BHSPPUU0/14wV1THqcg+B/6KGHfLIcE3suaWc2LjJ2ktaDDz6YOL5b3mGI7sAmkAa2JjwHO8dKLDaENAloBnQBW2+wP3yea665/DiPTqEdp+Wf9sj4wrmkRzBWxPHMM8947tThHHPM4ccKtJPpAH9CE/xTUXHJQE5DokMBELHJQIe6p5EiGBCFGEw6NA2PSmO2SINgjwsdDXcwHQUxiQFGiCJQqBAEJEYD0YoxYX8Rgo6lRrx0LAvFAUHIAE9DIm6McM+ePd1KK63k90TGx5P3YuISjysDESKAARwxQ5wEO2/HHXd0DHLkic6Gx5aZMIMIghDBiLFhbw8NGyNGYJaL4TvkkEN8I+U84meww8sBEzMYGIl77rnHlwHBmRSKiUsMNgaIAQg2SfzT8oKxxogTD4aCgYildjojAQ8KnYMORFx0VNpDqXqgsyMCYYYXnPNoA/BmgMKoMWggzOAbBzp7yJzyI47atGnjB44XXnjB1yvG7M4774xP9//DmAEKQ0MZMSYMONQBA3USK2urREAZqDPKwP5jjA31Trk//vhjP0FYddVVXffu3R1tKRRtnB+XIa3d0ObYmww39oe99tprfjCEEfuDk0Ja3YXlYZ8wZWHvMIH8HnDAAZ4zg0Fa2nnaLGU588wz/cCOzaCP9OjRwy/1TZ48uR67f/3rX/XaGEuF9Gv6hnkGmSBg8GkzDED8z95n+gH9nPqinNgetrwwSNJukkLIplRdIxzCQFoI07DusZelbELeumX/HfWBrcQGM/CzPaCUTSnWnukD5A3bytIjIgCRdNVVV7nnnnvOb/dhyY5Qyr7S5+Nyx22ePWUMqghaJlPYdDgx+aKNkQ9EJ0vU5Ie6pA9ThwTsOX2U47ERfE9/69Onj2+v9EH6A32YYykDNoH+Qh1ae6F90LZZfUNo0hcZp8y+pqXD5Hn99df3ggjbRf8nLuxkkrgM005rq76gwZ+kcZG2idBhDKYtI8bou1nzH0TvPxIHW9pgxSSOiT59g3GWtka9U082JjEmM77BGna072222cZ732g//E5+EEwLLLCAb0/bb7+9P5/6xR6iB7DhLHnzHcKVtkG65IP6jcUl/zP+cAxpM/4yUWRsZZxMCuQdwUo66BKYUQ7Os7GBMZ44mdTQfwlsJeMc2iJahEkI/1MeBC19I0v+4cl56CKCsYIf/YWxn34MK945vpyeUZ9omf9UVFxiDM866yzfoH7++WcvvmiIDJDM6GhYGLspU6b4irWlZQwcgyMN0kJoxDEOzFZtWZzBEWMSCgwGP+JnkIgDnR6PZ7jUQT5WXHHFOrMwO49yMOjQUHlnoMHbwWwJoUNDZF8p5WAGz8yWc+hwlPeaa67x/8fL4hhJzqUhEYgDMcYsiMZL/Bhs2FmgkbF9gEETJuHeVdJkEMEzmhQQVzR+RDhl4MUsbLvttvMdF9Fu4j7kn5YXBAyeIMrDjItgoiMUl8SJIbeQVg8YW86hAxMoHwME+21hS6CNMBgkCSeOD5kjSDB+XMBkgcEKwcIFD5Z3+413GNOZEaIW+I72R/7S2qqVgQvYLOB5o71iGNOWCOMyMOiUajcwxTiGZeQcPD+sBPA5DNRTWt2FfQ8jTBvHG0H46KOPvOBHdGdJO0+bpS0yuNNHzFOMB5y0MKwxOyYwcRuLB2zY0d7NU4lnlEGAPkfZsBmhl9K+yyouSb9YXYfc+Rznv9x1Sxr0D9oqAi2tH2NTirVnBnITRNQzfZC+SB0RYMYqACGtX8fl9icFf7CjiEE8zCY8EQXYefoodYiNIx4CfZgBnBef8arGdpNVFSbPiFtsJALFBmfKwIUv2KawvRA35aI/USbqx8Ql/bJUOu+//74XJdhq7KMFPHaMI8bSvuc9TNvaQrG2Gp5nn+Nxkb4W1ht5RojDLkv+LV57R/ggVrGVlI+6QDDDlrELRtgFxDxMGV8R1wg0xLUJpjnnnLOwbxC7jYhDcDN+U27EG0IL9sRDvSKqsFPUL84oPHfEw/j1119/1fFcMpGjHyMmTSPAnQkSq1D0gzDAgrGPslG/jLd8xySKc2wrW5q4JM54WTxr/tPEJfmhrHDRsvj/ag+DwGBEY8TbhGCicrmCjUZOpSLsOIaOT8DAYajCK+rCAS7uRCwBovARDnhGeeHhYqZDZ6Ji4kBnoCMcffTR3hDhvaAxhiLCzuF8RCWzYzxMLM9zYQ8zX+IwI0dDwtuKeGP2TcchHxgN4giFTmioOI9APDCh8eDyZukYr2aYf4wSBgv3OUzgZpw4juUdzksKJi7JE2WgQSM6WOqh81uni/mn5YXBnjIzkQjzeuWVV/qZJnlh4E8SgaXqITS2xEHceCrDgYMlHgZPPFNx4PiQOV4ORB1lDQMDC7NWE6zhbzDG22riht9oI0xEMCQxK34P26qV4d577y1ESz7IM+9pA21chrR2w0CGZwoPifUF3jHelAPeYaCdptVdWB7aCLN0G8iZvMEOg54l7bxtFm8LfRMvOAMtbQpBSIjZJbUx4x96LlkJsD5nbZt+8/TTT/v2wTKUBQZQPB9ZxSVtvFhdW5z2Hue/3HVLOqG4tLKWsinF2jNiz1aB6AtMGsMJDMIDW2ShVL+Oy23n2DuCkhUQ8zwxZmBLERXGiIE2tDVMDhAyTCCZjOBhC9s/9UI7YsWECzHDNmDp8h62F/4vJi6ZnJRKBxuD7WHiYu2V+FjVgWUWcYnQCfNp9UdbTQrxuGj91uoNXoy3iKW0/OPljgNeZLz6zZo18yIHzzVjOt9bePfdd70IwtYwJiMKzQtp4hLBZvaaSQNeTCYriFP6JWVGRDFJ439sDcLPJrSkhd3hOyYaCE7aCOcgCPEWUv+IeLQB5zE2kY9wUmF5tjZFfDCzQFsgDhw49KMkccnYQbrYREIxcZmW/yRxyThnnkvqTuLSauZ/73R2Zn7MbnBp43kjAAvhx7ITnRB3uHnwMHChd4rjraPwOe5E7LlDcDHzpAHYi2XqsOH7hJ3zS3oMiDQcRCKGiVkyA3IpcRmLDIsvfMd4ES/vdBJmWBhLyhsKHWvQCFQb6DC6Ji6ZVdMRGNQ41wLloawYW5iEVwNyXJq4xJOKQAvjtLjtPeaflhdmrwgUtimE8cbiEkFl+2RIC+9yqXqgc3MOZSUQN3lnacXaSh5xiWhAXLK8EwaMGAORifTwNxjbzNW+ZzkMccmkKGbFMWFbjcvA7+UQl8XaDXmj/cHJ+oG90yYZoMNg4rJU3YXl4VwmjEzkGCAx/LadJUvaedss6TExZfmaNsZeKDxQth0mvBgKcRm3sVAsJPW5cMA2cRm2j7ziMmyv5D2s65A7n2ORlZS/0CZk4RunEYrLtH5MPyvWnkM7Y+IyvDVcKC7T+nVc7jjP/M8kBoGDeIEpgzO2+t///ref4McTWbYUIeTwpLMvD+HHPnJr+7yzvIknmuVYlsxDW2V5CNsL3xUTl3i3SqXz//7f//O2OB4z2DKFrckqLsN+HrZVy2/4Ho+LSX3NxGVa/hF6SYEJJOMaNgbPIUKTiSvtnDLhuWdSwDYirppGSDMxxPaYuMRTaXsL6WuISyYGtCvGQoRaLC75P1yFRE/QJpgo0EdDcWmClXRgjZawF20ImxcGbCLxEB9jmQXaMWKayTorrbQhyoaDyTzq6IYs4jIt/yYuTUCb803i0moj4Z2KYwDCpU1Fh7cfooEhPBkgEEXW2YsZODxuBGZ/GBxzeWNEaOzhsjjpkhYdMg62UZvByAINhyUEOmgcyBeey9hQxMfxPzN2ZvU0Ygyy7QMijjzikoEGbrxCQcCMjw6MCE4yHpUQl2l5oR6oXyYKdHQCnY89U+GyeDzwp9VDLMxgODPi0gYOuFkwTxxtMOl+cBxLvjE0Ftj/iSeEgTutrcZlII5QcKQNtHnbDYMn+Q0HftJEoDHRI74wUE9pdQcD63ucyyDARJHlRQYPlvkJWdLO02Zpd3gB6e8WGJyZBOKhiNnNrLi0JXD23lmAGWXM6rmEvU2GiCOsa4vT3uP8p4nLLHwtbnsPxWVaP8amFGvPecRlWr+Oy215tXdWWMJtSwiOyy+/3A/0CBg8euyRtwGePszFnNif//znP341JlzdIF7aLBMSvFzsOcSZYVsj+B1RgVAwG2GetWLikjRZ9SmWDqwRQNgJvHkW2D+Hc6AS4jIeF5P6monLLPm3PNs78TMRZ5JOndDfcIaYEMSTzWdbekbEYScQl9iImRGXeECZaJBvbBjed9JiYhsvi5Mv9ACOBOwegS0fl112mZ+wmDPHykV8jO+IZUuD36gr9k6ylQzvM3YfcWnODeLheM4zzyUea7YBUG7KzzGM4Wn5xwlFecgjAUcHfS4Ul1Zm9qGbHacNM2kMNYKVq9rvFd1zaYXDdQxwGiKGxQKGm0GLmY8NUPxWzMDZAMcAg+eIDb8EluQQrixfESegSTO8OMbS5B0PJ7MRXNhUEvEhcplB4b2IgzW+LOKSY7mtDI1w7bXXruMNY8DHcxju3wlnprAxzyV5YLkZNgx2GCu2DTAjxDAihJKMRyXEZZa84M2yCwcYULnaL76gJxaXafUQCzPY5hGX5DtkTrtghsvyHQMphuqOO+7wbYH2khRgTF2y3YGJCoaLWTaDGwNVWluNy0AaoeDAg8AAxSw/NnqWn7AMaQKEARdDh2GlTxEngwGDHN9T5jik1R0MrO9xLvVA/XLFL951W2rPknaeNkt8GF3aPOKedPF8M3Bw0VvMbmbFJWwQzIhXPAh4QPBS4NGohLiM81+Jug3FJXWXZlOKtec84jKtX8fljtsj3kc849QFgyf9jH6PjacdsBTKsidloU/jGGDp0jxbTOix/Xi7OZ/tLtQj57Ofk6vlcSSwD482xmoQ5WPZMau4JM9p6TAusTJDG6aPsMrCKgg2vRLiMh4Xk/qaicss+Y/rhT7Bkjb9g3GGFT/sDMvN9EvaDrYS8Qx7RBX/I5CYcM2MuMRDitDDhiEEGavRFHhEsXGh55L2gvBHrHXu3NlPGhCI5IUJBHYkDjiVqBfyijjGM47XkvLaHmrsKOli92ib2Gz+D8WlLcmjL2DAxAIOpfJPftgKRzzsFSWPeFKNHSKXY2BOmVjBYQWY8Sgsd1ymav/fKOISwYYxiPc/YhgAj2fA9oUApJiBswGOmS0DPEtkxElgICAeBgKuNEfYUBmkEQdmBSxpUHk0WBoCswL2kJiBCs+hYrN6LjkP4cKFPrFgYLCnMdKIGdCZgZcSl+SdBkpjppFTLvKNASQkGY9Kicu0vNDBmf3TOagXRAeDAO+EpIE/rR5iYUY95BWXIXNmlQwudgUwhoR2wqBiy+w+s8EfGCNmmFjAnzbD3j+7H2haW43LQNShuIQbe16JG1bh/izLRliGLO2GjfRm2Gk35JlN+GEfs7h5T6s7GFjfs/NYomUyQfukXiykpZ23zWKcYU8ZGMToryY6YnYY/3gCE4qFJPEWLzXyP/2W/dX0VZarmIxg/JNCyCatruPz4/xTP2k2IY1vnEYsLtP6cbH2nEdcpvXruNxxm6c9mQjGltBP6YMsa1sdIhYQMfQb2gXbOhAVBI7Bi0b90W54YdvpRwQEJb8jToib3+kvjCthe+HYYp7LLOlwDDaHNkkaLNNSv9jISojLeFxM6muhuEzjRP7DAF9EFzYTscSLsYkVOeLCaYJtRCTxYtUKkceYjJ1gUoHXryHL4sTHhT7YHLyA5AGHABNC2lMsshD2OJtIm3zSThCmoXMrLBttDhHHpIa0SIP2g4A2DcFEhTioS36nHtkbTBvlewKTCBxE/M5xrKrStkrln/NwHNGmOY88004QmLRP8kXAvlF+yoNzjUlYXG5/YBP50yjishJlxXPHAEcjsoDRwJhyFS6u4lKBRsmxdHIaTTkDBgqvJYI3Dogbu0o4/q3Y/5SFsiJowoG82PGV/L5YXigzg4oF8nnsscf6e7zZd0nvlawHSy9mTt5gCdN4/42dY+9moGlnCGS8DxizcgYYsGTH0g1tOCnEZUg6Jv6Oc1jKSms3Da27OL3w/6xph+cU+wwfjC+TtliIZGFXLN74ewYR9laFEw0GTIw+S72VCA3N/8zyLdaPy1VGylXKvmYpN/WANw7Pom23MXHJpByhgP1GVCUFfqePU6cmEMLjYIAtZpCeGbualg55pwysqlU6JI2LaWmm5T8+nwkYXNmGxrlhsHrFnhWzZeHxaZ+xtYgzPHZsMyBt0i1W52F81CnMsYHFJtbh8Xwm/9ga2l1cNn4nTransOXOJjNxHHzP3lQmxrTXrPk3+2OrNHG8/I/9o80yyWzqYZYVl00VLJ2B2Q4bypMaZ1PN98zkiw7HVgC8GwwoBPPOsXw6KwcTl7NCZ24I51quu7w8EBssW7JXmEGagYE9UHjNbH933jh1fHkJhOKy3JO88uZUsZWDQCwuyxFnY8Yxq+d/ZlhJXM4Mvehcc1uz7M1ekNkp4NljLyhLAbjyWSrgHoW2H29WZcHeFq40rFVxSb3Uat01pM1xP0iWnGjHbClgewtLo3g0FKpPAG8Yy6NcSMHESKG2CSDOuA8x/ZGtErNamNXzPzO8JS5nhl50LoaPq9NmdUEVFSvzvxh7lutYElNTp9EAACAASURBVIiXLzNHogOrQkB193/Y8Y6xpMU2BVuO/b9f9UkEREAERCCNgMRlGiH9LgIiIAIiIAIiIAIikJmAxGVmVDpQBERABERABERABEQgjYDEZRoh/S4CIiACIiACIiACIpCZgMRlZlQ6UAREQAREQAREQAREII2AxGUaIf0uAiIgAiIgAiIgAiKQmYDEZWZUOlAEREAEREAEREAERCCNgMRlGiH9LgIiIAIiIAIiIAIikJmAxGVmVDpQBERABERABERABEQgjYDEZRoh/S4CIiACIiACIiACIpCZgMRlZlQ6UAREQAREQAREQAREII2AxGUaIf0uAiIgAiIgAiIgAiKQmYDEZWZUOlAEREAEREAEREAERCCNgMRlGiH9LgIiIAIiIAIiIAIikJmAxGVmVDpQBERABERABERABEQgjYDEZRoh/S4CIiACIiACIiACIpCZgMRlZlQ6UAREQAREQAREQAREII2AxGUaIf0uAiIgAiIgAiIgAiKQmYDEZWZUOlAEREAEREAEREAERCCNgMRlGiH9LgIiIAIiIAIiIAIikJmAxGVmVDpQBERABERABERABEQgjYDEZRoh/S4CIiACIiACIiACIpCZgMRlZlQ6UAREQAREQAREQAREII2AxGUaIf0uAiIgAiIgAiIgAiKQmYDEZWZUOlAEREAEREAEREAERCCNgMRlGiH9LgIiIAIiIAIiIAIikJmAxGURVH/88Ye79tpr3YgRI9w///xTOOqHH35wAwYMcIMHD3a//vpr4fvff//dXX311W706NHu/fffd2eccYY74YQT6r1OPPFE98wzzxTOK/bh+++/d+edd1698y3Ok046yb322mvuk08+ceeee66bNGlSvaj4nd+++OILn9fLL7+8aHyUlTLH4ZdffnGDBg0qnNe3b1938sknu4suusi98sorBTYffvhhrjL/+OOPbtiwYW733Xd3W221lTvwwAPdgw8+6P78889CFrKm/c477/hyTp48uXBu+IF6akjZiePvv/92jz76qDvooIN8PsnvFVdc4b799tswCTd9+nRfHquf8B1eb731Vp3j+Yd2Ze3J2sR9993ny/Lll1/WOZ5jb7/9dnfDDTe4GTNm+DZ2+umn+3qhTmgP55xzjuP83377rc65b7zxho9z2rRpdb63Nn7hhRc66iNPgMtNN93k7rrrrkIbyHN+2rHffPONu+CCC9zbb7+ddmij/07dYAOS+lxjZKba6ecpY6Xz+tBDD3k7XSxP9P1PP/202M9N+nv6PHaVfmr9jfHFAnb9u+++s39T3/MeH0aYZKvC37N8pi6wnU8//XRiebLEYcfktQ8hS4tD75UlIHFZhC+N8ZhjjnEbbrhhHSHxxBNPuJYtW7qll17aMWhbwICtssoqbujQoe7JJ590rVu3dttss43r1atXnVfv3r3dY489ZqcVfafzIBrs/DXXXNMtvvjibu+99/bfIcaef/5531Hbtm3rHn744XpxjRo1yvHbm2++6cuwwQYbuDXWWKMQp8XN+yWXXJIoLr/66iu37rrrurXWWqtw3n777ec22WQTt9BCC7lLL73Ui4s8ZX733Xddp06d3PLLL+9FEeKV8rRq1cqLTRNuWdNGUFHOCRMm1GPAF8TXkLIjbg877DC36KKLun322ceL7NNOO83XM3UNfwuIsy5duvjfQq58Pvjgg70Qt2PtnQEDQdyuXTsfN22uT58+rnnz5r7thUKbY4lrxx139EIWwQuv7bff3n+///77u65du/rvaLPvvfeeJeNFKXyYbIQB4UYd0J5hmCcw4HXr1s3zIW/lDkyamHSMHTu23FHPdHxMFNq3b+/GjBkz03E1JIJqp58nz5XMK/2Fidu2226bmCXEDJNBJl0cO6sFJt9bbrmlw9GALTjiiCP8BJ5ywLVjx47u2WefzVSsvMfHkca2Kv49y/+Madhhxoy4PFnOD4/Jax9ClmE8+lw5AhKXJdgyS1xuueUKIhIDdf755/sOgtjDi2ThkUce8QP1iy++6MUlgznflSOQLp6w9ddf39FBw8AskLSyiEtEx3HHHZfL0CLw1ltvPXfKKafUOQ9xgbFDZCGsEZdZyoyhRDR07tzZff7552FRvDhcYYUVfB7xzmVNO4u4bEjZqWsmETFbxOouu+ziBfLUqVN9GRCXm2++uTv00EP9rLxOwYr8Exts6hlx2aJFCy9o77///sKZSeIS3kx2woBwZyJA/n7++Wf/Ex5Pjo3FJRMKjD2itGfPng7ve9ZQaXGZNR/VOK6SgilLeaqdfpY82jGVzCv9pZS4pE9uscUW7uyzz65juyxvTfmdsrFytdlmm3lxGeeViTQTnKziMu/xcXqxrYp/z/J/KC6zHF+uY9JYlisdxVOXgMRlXR51/mPZC68SHkACM2EGYmbCeNrwFiGCaLwIkY022sh7ybIKrTqJlfiH+JuauCS7t956q1tyySVdHkF97733+nPwvCWFgQMHepE+ceLEouIyTrtS4pIJBNwxrHGgzAhPthMQyikuEXx4vRH1JsCzikvyQr0stdRS3qvN/0nikuV4BD6e2Ntuu82tuOKK7vXXX/dlyfLHxOWuu+7qvekLLrig96yzVE8/ISBW2Y6w2mqrecE8//zzu+22284vdU+ZMsXttttu7oEHHigkR1/q16+fO/XUU91nn33mPaNPPfWU72Ms+7MUve+++zrSYmWAvFtalIe6wru/yCKLeI8qXmc8Fknh66+/9hOBJZZYws0777y+74YrCh988IHbc8893cILL+wWWGABt9NOOxW2NsSCiXLifWdixMSAdgNTaze0T7ZVUDbqhThZFaENMdGaZ555/IoCdoPA8Xi7+/fv7ycF8803n7c75Ilg6bONhG0vRx11VJ2tEOPHj/dsWVKNw1577eWOP/543wfxtLNsnZb/crFiCbt79+6+bi1fbNXYY489Cu0ABqyKwIS6YVJL3yLA85ZbbvHtyZhQniTPJdtUmPzCmonV4Ycf7ttKqXq1PIXvtC9sEv1j7rnndmuvvbbfvsMx2GXaL6sw/EbdInZpi4S0esR7R/tkgk55aT+kRd4Zc5Zddlm/OoT38l//+pdjSxWCk1WJTTfd1Lfb1Vdf3d18883uzjvvdKwo2TI5ebvyyivd0UcfnXg8+WNizEoaKzP0Tdp4sW0osA9XWeifrKKRfys//fzuu+/2ZecPHFh9o0+yynLkkUd6fngu6etWHo4tZSsKEQYf8tiHmCXbqFiVou8ss8wyvs926NDBM7c+GyTlP+bNX3z+7Pi/xGWJWqcBYrgYtOisiE0GjnHjxrnhw4e7ddZZx3dQGh5LhBh5Gmdji8s2bdr4vSwvv/yyC18IXgyrLYs3xHtXzHuIccBwrLzyyn7fZ5YywxDhgEE00RTjf+6557yRvuOOO4qKyzjtSohL8opwRgwnBQwnXgUMOnVeTnHJYAIHBrRjjz3WLyGRRrwsnuS5JK8Ic35jiwYhSVzShhnMECLUBcYVY0u5swTEJcKSQZ4B9dVXX3Xs3UT02QCDwIIhwguDzkBM3TMo/ec///Hijc/ERcADzraN66+/3g+IK620krvnnnv87/QvBijaD20c4cX/7PmkPSCYGIzZB4ogxXOL0EPsxoEynnnmmX67BxzIe48ePTwDBlzEFIM3Ih8Bx9I8IhCPMHk0cceyOHFdfPHFfpCCN95hBAD8zfNMeRAP8IL3kCFD/IDOxPWqq67ydU2db7311j6rHG+DPf0KBrBAcBLC9GFMudn/TCA/sGD7hAlv/8P//jAholyPP/6430v83//+t2T+y8kKUYSQYh+7Bdom32FbX3rpJd8mEYIIb+oWwYI3HyHGShCCE7vDlhTaHZyYiMWBNoFdWHXVVb2g5VzqtlS9xnFQdlu9QETR7liZoF9iU2GIoDzkkEP8qgsrWdQFkxradFo9supEHyRu+gftiPKRb/5nSR82xIsIpw/QBlj9IV/0Lfb2IwhpU2xfYrJAIO/m1U06HnuFowQhz8oM7ZL0wgltyAP7E4pL6pKyWn3iGaV9U18IP46nnjiGsZIVFsbSueaayy+L2+TU2nQpW0Hdx4H0s9qHmCVjGnbBxs0XXnjB95nFFlvMi/Q4Lf7Pm7+kOGa37yQuS9Q4HfSss87yxoslRhoYnY+OjnGhYzHw4IVh4MFQEhgQmA3iEcH4hS+WMswDUSLpOj+Rj1KeS/bMJaXFgIbxM3HJoMKAG+aHz+ydZPabFOiIGC2MEB2SF14kPFB4kDByGJIsZeY4Zsobb7xxYYYdp8kgw2ySWXfWtLOIy7xlJ68YbwaApGDiaocddvBeI4w1nqCYL4zwWFGHcSCN0GBzDAMpQoP4ECvM+hFlHJtVXFqcCDBCLC6JCy8Cxp52be0rHJzivMb/W/mJg0kYge0CTGC4EIeA4GFrCccSSAdvBULtp59+8v2JPsRAQcArhfjE4xYPHgxctDkTTAhAPCakxf4r4mGQtmDfJYlLyn/AAQf48ts2E0Qj6TMQM7GhDSImLNgqBoN4KO4YzJlkcoGbBcrLHl08cnxGZDCQIWIJnMN+OeqavBDIOwKfwPHhnm6rH9oFIUwf24MgR9ByHBdtYKOuueYaf2z8h3IhaC2k5R8vWrlYIRJowwh5JuT8jyeaFyIXby4C27ZzkMeRI0f6CSwTJlaL2GNs7Y284f1OEpecSx8Kl8XT6tWY2Lu1sbD/wpd8MvmjLHF+EYLsY6aO0uoRbyPHEheBto2XDTFEXYbL4rQjE5ccGy9zlxKXScczMULYhm2cfkc/YoIWB9qp2RUmi/RP2hIXtlrA80+cTAwQmAhNjrVAHVJePJdxedJshcVh73nsQ8yScjDpCPssbYl2ifc2viCSNPPmz/I5O79LXKbUPp0Q480V4CyzYFCYFTM4YuwRVwhMjmEAIiC0GEzo8HTe8IXQw7DmCTa4lGPPJYMeHoIwT3QcW06J82UCj0GfZUKWoYgDkcDMHRaELGXGQDGrR+jZoB6nx0VSDKzXXXddQVympZ1FXCJ68pSdvCLMKWNSwAAhdhA9GEoGMvZcMtiFfGFr+zLjeGKDTT2buKR9MYgSH2IBY51VXDJ5Ya8wRpwQi0uEFIMIxvTGG2/0LyYvTIhsghTnNf4/HBwoBwEG9AkGYwsMlBhxBApikEkQnDgWjynLjNQ1fYL2hSeDNhUPHgyseIgsLTzHiHm8reYBsivuSZv6wXuXJC75nSVaPJ9MrKhHJjOICeqAOOM2Sl0gYhDlLFHaBT14Kmkn8GZVw154oIgDwY3IYKA1bz1tn/YYDm54d7AhBI7ns7UbyxPlJYTiEh7kickffRhvKf0FfkkBb495VPk9S/7LxYr08MLS9tgbjE2FCyILYcVEhYmyMeSd/FJP5BmhiDcMHgTeEWCclxRCcUmbSqtXi9fiou3ipUxavbD2h3cwPI8JBAIKj3daPdIeaAdMSJls4JW3i0StbLbnMuxv5G9mxSWij1UHRJbxpt0wGSYfYZlIL7ZV1j9DNng/6Re841lGaIYX5Fl9JIlL0ihlK6xO7N3SD1c2itmHmCX5I2+xbWcPOk4iJhBJIU/+ks6f3b6TuEypcWY5eCaYQeNxs4t4aLB0QpbfMHDhjBqhxbJYLV/QE2PLWmZuRcFSCR01KbAUhseQjo+wRVjFFxPF52UVl3kvZqIOQy9PmK7NzG1wwXCW64IeBBriksBggyFEdCKOw6vFyV98QQ/nwA6GZvhjcYmgZF8igwqDmr0YxNkTlzRzD8vOZxvsmCyY4INBKC7x9CNY6T8sdcKSC4cQCRzLeSz7IxwROQgN24OZNHiEadngHopLlsMtpIlLjkPc4N1FmCF62eLB5A9xTF9HGFpA/CBCyQN1YuKSiQT1QBvF6xS+2FeMaEZk4JW0W0GZuGQZ1EIsLsPjsTWUM0lccj7pkAfeGWDZC560lMix5BuxaCFL/jm2HKyIB08pkwxu28Z+ZbzlcMFbiUcbocie4ZAj4pOJO3uEY1uAIKBekoKJGS7oQVym1au1Y4sLEY+4tDZp3/OOh5sldiYvoRBj3zLiEjEc13tcj8RDHvEU0u/YUsL+Xrhw7Mx6LnEAmPCOxajtbadPhqzps0l7r5PEJW0pnKiE4hJvbCzgmKCRnyRxmWYrQvZ8zmMfYpZMQslbaC+IEy8sNtEmdWGaefMXnju7fpa4TKl5Bgf2orB0Q8OzmSWnMTtl4GSwxPibkckqtFKSLvxMvKWWxRlY4iuaORmjwW+2LM4sOa/AyirwspbZvAHsFYqNOYJq55139kYbL0zWtCslLql3BhA8WmGgPjBE4bI5g0QlxCXp4gFn4ME7liYuEX0IINoqS6aEUFwiklj6oWwsBYUB4Y/HnWWttJAmLhF3bBnA82rpMMDTjxBJ8CIghPHS0b7x9FHnhDyDhy2B2x5TzmdSiFhN8lySd4R3eCspPMzwhTUTSDxmthJBfLb8zDJ86DkkbQbZUChyPGKMPNBWYpFRbnFp2xHYv4ooZYJWLMTiMi3/LFeXixV5ggcCkf1+vKh3vqNtMHmKl5lhxZ5ChAmrJrQnW/nBftDWsy6Lp9VrzAzPIt48LkqzgAjGqYDNoQ/xsvxwDJ40lovZxxfXO+UMJwl4OVmqpz0S6BPYP7jQT0uJS9oudWlXiyMSQ283PNkPbmzi4xHwjA3hsjjlYHxj4haHvOKSJXYma6xKWEC00T5jcZnVVlg8vOexD3APWdq51I8FeLGflrHcJvb2W0PyZ+fOzu8Slxlqn9kxnh68MjYochqDB8aHJbDwSlOEFku7GDMGqPBFwza3O9+zzyv0kCRlh85RLnHJnkeWpMI88ZlBJsnbkVXgZS0zZcFY4yVj4DfhxmDM4AhLE8pZ08bQszSJoQ7LRZwMSjb45i07ggPPBSIJo0veqX+WMxF77D0NB4ZKiUsGNDwbc8wxRx1xiRDk4gjKTJ0yE8dAsk8z3EMbikvzVIW/W5sjDmb0tixGvMXaJ+XG4xh6E2FjnksEJQMl3ibaO8djzPFkhntu8QAhNrmqlwkHjAk2AITLXmFaoeeSgYH+gTjEK0tbhBcXDySJS9o53j3u7sAgSJp48xhsuRiJ71guRAjTBhls8LDaPsxQXBIXzOGGDWAQxjOCOOV78haLjHKLS/KPd47lVbYZJHlerI5jcZmWf+qxXKwsD3i1aLv02dB7hCimX+FNRlzRbqhHmyhRN5zDflKEEKKXCZ4JKIvf3uk3iFUm1NRLWr3aefZO3XG1NaINzzqssOm0E5Z76RvYKyY1tG/6C22KVSzaTFzv1FMoLm3yTxvnN1ZD8KLjfSZtJiys3ODttf5mF8CYbbLVMTyI9HvyxLl4W2FsbOLjSQuuTFYZx+DJOAd/uyDPOPCeV1zCiv4KO9KmLrCXXAcQi8ustiLMTx77wHkhS8rKFiPyxiQAXowdtC0YxKEh+YvjmB3/l7jMUOvs6WIvkA26dgqNlJlruJ+K3xjcEKPNmjWr90IgMAMnsPxBg6bzlQoYnnKISzxDSXniO5Zy2IsXh6wCL2uZiZ/OzMyZzs2AyFIQ74iMcLDJmjbikv1Dcdm4PQgXlCAuG1J28oqoxNOHUbR8Ijjx8lH/FhBWlRKXlo/Yc8l+QSvznHPO6dscM28GGtqMBROXtDMuUGPPG5OJODAgICQYdPDalGqfNtiFgi8Ul8TNMi2TLOqB+mHPMAM9Hg0GBwtcZc7AyNKdhbyDB2KTuLniEwFLH6N9hfs/LW7eEdK0Cdod+8yoW/oYooaAUCSf/E7dIx5pS3ANxSXHsqyLHbBjeafN2B7LWGSUW1ySBwZJGJqQ8oVI+BOLyyz5Lycr0kN4sQROfw+9ZLQpJm7UHwx5cUW9Tdz5nT3utHt+Q+TB2ZZ+4+IiiFgapv3ZCkSpeo3P538ELnVLHGydwK4jVOgr9H+EMBMj2gjHUC5r23G903ZCccnEl338nEsb5HyY2AWf5BUWCFj2/ocX9GAb6U/kiXGJvsdkCC62lxIhalsG4uMpGzabsYtJGGnDlfyFds2Y5BWXnEe/sLs2kC+EM3saY3HJsVltheUnr30IWbJawkqE5Q1elB3xS50khbz5S4pjdvtO4rKKNU4nxrhgvGfHgMFC0LI0Y97cpsoBQcAyFt5QBpbZIZSjfSIk8JYyGFDflQjkk60f4cCAt4f9fEwCigUmOXibEGbmQQ+PRcwQL2IyacANj+UzAxbLj7TpUNzHx1Xif/jitUQwNDSUyn+5WZXKI0KJNgP7JO7UFRMljksL5JtlderQ+m3eeqUuqVPaSdIqE9538tvQekeE0W4QlXEfoU7YppJUVutbeCEJ5POjjz7yXla8bXGIj+d3mLBViTQoR7kD5aFcIf9iaVj+KmUrYpZWr9RdsQtaw7xWOn9hWrXwWeKyirWIR5T9R+zpUBCBpkZgVmmfDIpcVcuNyhkAEA+XXXaZ92zZnrSmxrac+WEAZy8oHrwkEVLOtBSXCIiACGQhIHGZhZKOEQERaNIE2KfLdgWW31hmZImYe0fiuarlwP5O9h2ydMrSnYIIiIAINAUCEpdNoRaUBxEQgZkmgMeSLSYswc0uqwEsa7JVI2m5dqaBKgIREAERaCABicsGgtNpIiACIiACIiACIiAC9QlIXNZnom9EQAREQAREQAREQAQaSEDisoHgdJoIiIAIiIAIiIAIiEB9AhKX9ZnoGxEQAREQAREQAREQgQYSkLhsIDidJgIiIAIiIAIiIAIiUJ+AxGV9JnW+4Uar3CuPJ5Hw9AWeCME95ZJu+s095rj9CU904NgDDzzQP3/cbt7LFazc1HnkyJH1bpZLojwdhEcj8sQZHlXG4/B4akj84qkT3IKEEB/Xt29f/6QBnmTBDZXtViwWdxyX/c/TWLjalvLy9Bz732DwPY9t43FoPFKNx4rxSDxuvstvFsg7T3ngJtZh4BieFMPj0yxP4e9JnzknK3vu9cetWLjXIeypA1gXu4qWq4p5NCDP8aUs3G8UlhZIO4kDv3PT43POOafwxBY7h3duSEz5eaRaUkiKN62c3MeRZ+NaXcXvPFmCx9OlhbR07Py4TYXphW3Pjk9jSdujLnhyUBwoG/2JtkVI4xeeTx/g6SRcHR4HnmhCX7C885k6pn/ZE1Dic4r9z6P0LC6LhyfJcPN/mFrIyg1e5Js4uC9nHMgfbfPqq6+u81Oafalz8P+eQlSqjcf5pWy0pdh2hPFiI7ANPFUpvKcmHLBrxsm42zvf8zt9P6lfYSN5lCGPPqT/7rrrrt6W8tjAYoG6tPh5p22eeeaZPv4wb5wft4fwPB6dSZ/mJvyDBg0qxEmeTz75ZF9P3LTd6jpve6bdWXrkkb5Me7cbphPvnXfe6cubdPNz8s+TwrAr5DMM9B+eK77HHnv4R68ecMAB/tGUFnd4bKU+Gw/ui1ssMF5muVF5sfNn9e9hxE32KxHoUzwNirGXMH78eN+OK5FWnjglLlNo8axi7pnHY/GuvPJKb3jXWWcd/4g8niRggQGjU6dO/jGKGGiMFOKSZ2gjdBA5dHiMDM8j52kBcaBR8PxiGgnCkOe8Inx4Dmr44hnZ9ki0pOP2228//4xbHmvFIIbhJn0ed8cj8cK47DPPVGXgII/77LOPvyEzHYKAwcMo8pgznhfNoMiLvPE4NAQ1BpJXnz59XPPmzd0xxxxTeCIGcRAvafEs22IGNOaRlT2DAuKfR6WRd9ifdtpp/jGHPOqQp19YII8M2rDlmeE8imzgwIGeDY+TsyecJHGwOCgvj2vjiSj2iD/7jbojnvBRhvYb70nxppWTpwMx0Fld8XhG2iTPYuc72llYxjC98HNaOnZsUpuytMO2l5UlbW/DDTf0jybknDBgcO1xmnyfxs/OZaKGAOGxjYcffnidCQtpUP88CnLPPfcscOMzz/yGnT2T2eIr9k5cxx9/vL+PpPGmjfF8dNJmsmX9JCu3Bx980J9Le33iiSfqJY3Y5pF8iCwLWeyLHZu1XpLym2Q7LF7eedoNj4rlcbg2mPE9adIvEDe0FW7oDh+es83/fM/vf/31Vz37wiMgSZf6oh9jZ7Gh9CPiiSeqlp8ke4Z9gSuPezQhVqw9WJvGZvGUGx6RyFOdeESh/Ua+eGwhjwfEVhBX3vZMfsgXcRIf9cp3iFqEATaB59DHj8O0cvJuj3ANJ5F8xp4znvCYUyZwPPaUuBGiWSfxYToN+Yx9oi7gkxSY/HXs2NE7CpJ+r/XvsA9oABwStJ9yB8ZT2hfOHsKQIUN8Oy53Onnjk7gsQYyZFoMIhg4DYAFD1KFDBy/caCzMHjEYnTt3ric2EBk8l5hn/tLZ8ba0adPGGwuLj3fiQQjyvFgeb4bhx7imDYLFjiMtvBbEwWPUShnEMB9J4ue6667zAzKeh7BzIFoZxHkGM/fa4zcMNTeyxsCFnirixbhmFZdZ2ZMmnhaeYc2NtMNAmXl+LKJ/6tSp/ic8oRzLAB4aX+qQ5/BS35yXxIEI8KRwHIPEqquu6m6++eYwyVRxFMebtZyWCOVlgkI7wajnCVnaMvEVa1NxWllZlmp7DRWXeJKYOPD4VOqB9mcBRrRLhAKCIQz8DwfaYZZ7YRIX4pLBM+TN9/QHJikM6oSs3BCX2ADyj1eLuCzgcWPSwzOfTVzmsS/Ek7VeiuU3th2WN96ZhMICj3/Pnj0TH8/IcUx+sT08xzkMcfun7Ay6yy67bD3xwYSJOFjBCRlZfMUmLOPGjfP2ikGWwLnF2oPFxTttY7311qtXJ0y6aWfUF+11Ztsz+eH55Ih0Jg0wySsusRubb765F+9huyQuvMrcVP+pp54Ki1exz2nikjGQZ9rTLmfHQJ/eYost/GQiqR3PLBOJy5klWIXzceXjnWIAoNNaoIEgnHjx+d577/VPySj2hAw8YxiSiRMnenHCsjKGGaNlwZ6FzIyTOIsZfjve7dPF3gAAIABJREFU3ksdh2cBI4OxLWUQLS7eY+PPwMaj9fbdd986+bVzMLZ41TCS5BtxyeCDVxNDbZ494s0jLrOyJ348eQiusI4sfyzbIyZZyuN3jDhiM+lZ0jw7ePDgwSXFJctZeNrGjh3rvTGIlPCZ1mmet5hv1nJaeWDcUHGZpS2TTqk2ZfnIw7JU22uIuIQB/WSjjTbyz3vHc8MSqQV+LyYmwnyHg7KdG78TV5K45Dj6LysaiFUG+yzcOA9xiT2gr3BumA/a15Zbbuk9riYu89iXsHxpbbxUfkPbYUzwMDKBhu1tt93m+8Hrr79uP9d5zyou6b9431gZgXUYKMtNN93k7rrrrjoTQTummLhkIkmcOAWIs1R7sLh4LyYu+Y2lfJ6EhD0pR3tmqwWCmudaW53l8Vxam8AOxYF6Z2WJpfSkgOikbbH6giOAicwtt9ziOTGxgNuAAQO8zecYJlDUuXnoaQfYfFYAWJk78sgj/TiZ5LlkdQ8v8rzzzus9rEzGqQ/Kjx2ee+653VJLLeW3HxBvUsCJgdcbcc/Tt3DWMKbaChjPn2e1iu8pD+MB7ROuBPLN8dht0sMO0gcJbEfAUUD/JZA3POesSBCwT3iDsQHUP3XEWE3fwaNNfhhj0QjxVgzOJ49MTFj1Y6LEKgv5YesLKyl8j4ef7XZJ23t8JpzzzhHGLlixMgh7xgHSlLg0SrPQOx2NCqTyd9ttN98BzQNmxaAx4nFkgDMhZb/ZOwMGjeKOO+7wXw0dOtS1a9fOTZo0yQ5xd999t2/8r776qv+ulOEvnFRCCNCAWS6lw9HBSxnEMD46ZLgsztIL4gwjnxZgwYDJ4GgiDFc9xoF484jLLOzJD8uKdHqMbVLAYCGOMSAMHggS9mWa4Uk6h+9iDnxH+TC8NgiYkKSsFuy7rMviWctp8ZOHhorLtLZsaWRpe7SnrCxLtb2GiEsGTzy3CEzaFgYb0WODE4yKiUv6HH21R48eRb1uxoF34iomLvmdLRYMGiwXZ+HGOQxs9EsGQAZC8+6RFkulrHIwICEA+C6PfclTL8XyG9sO48EklXyzfQdbx+qNTYbtGHvPKi4ROvRf7F/ekCQu4YVHmZUTtoEQ+K5YewjTLCYu6aOIKVZoPvnkk5K2NEt7RpwgWFgBQRxga/J4LikPq1J47JO2V4Vlij+Tf8Qk9hDvP+IWRwfbRdiDy4SpW7duXjTS7thX3L9/f/8/Ip+8wgJhPHz4cG9/2brANo4kcYlzgpUl6hgPNP2E9s54yP5a7CT78ImPLRGhw8Xyzl5O2h0Ckz3ZeH0RdNhaWPA/28kYVxmv2NNKnzTnj61scT7lgTVCkxU9W0K2rRfExz5bykTAIcT4h8OEfONAwt6TH+wOkw24wJSxD3sUBtoO+aSuunfv7lci0RAIbuLEFjBBoK+zHYP2EweYsB2J/sbeYRhSZkT/iBEjJC5jYLPK/xhaOg2zpjnnnNPPjNhziSeMGROdjYo370VSuRjQaPzMiAgs4WGoaOwEGiSdnX0ZNhvD8GMgmfHNP//8dV4sMdhFCRzH7JElQBooL5ZL6Kycz+BHh2HQoTEzs4vjYz+RLe/GooqGjyF46KGHfF75Q7lZ3qeh82LpHsNEOiYuMZp0dmZYzFKJN4+4JJ009hxDx8ZwFdtMTsdkbx5LjTBjMMcwk9dSIebAsRgF9g7RsQkMRsy+EQMcT8grLjknSzl95P8bKBsqLrOmk6XtwSIry3KLS9oTgwODIwEhwwBAWyRQt4gJ9gMzEbB+gRjmO7xaxTxuPoLgD3GVEpfshaP9MUhm4UbUJi5Z9qXP29I43hM8/mzvOOqoo3y+aVd57EueeslqO8gz+cBDxaDL1hC40A6xOzYwB9gyL4sjALAv5CVvwJ4tt9xyhfqlnhmAsZnYU/MkWXtAAMW2j/8Rethg+jPlwSOFjeDFZBIRiAcPkQKHvO2ZNNj/bu94nmgzttJFnHnEJccjxBDX5CVPoK6w9bYflXOx8fQnhJLZS8qMvSAwmcPOsZWILWEIKTyFFhBgeOKTxCXHhMviiC3GAVbvwou1EJjEkeS9w7vIbzaJJ1+jRo3yQpPyMB7jqbVAGXCQcJETkyDyzp5U2gGB1SKuCWClKou4ZOzmoikCcXBunH8mNLY9zB8Y/KEdhsviOJmIE6FrAY2Aw8m2ctj3vDPe4jwJ99VbneBhlucypDULfqZR0QCofBoK7nAGBRoyHR1DFy5vhUVkeYLBj72LBDoY3jMED0uqxIt4pcNYwNiyL4v0aIThixkXDY7AcczimEVddtllftZFWghM4rVgBpFOx2w1jI9B2pYFMFyh5xLPAsb/nnvusai8YWLQpoMwQ4SFbU43cclVsJQNjy/L4xilvOLSEizGHo42OJn3x86xd/bVYSgRmMzyyQuDohkaOy5+jznwO0KCiw4wVHhFMIiIAduLxTENEZeWdqlyhsc0VFyGcSS1ZXgSsrQ98/JkYUnbQ9hhlGPu5umxiVcaP0QAF4cwwGHwqQeWxBEZfM/vpIG4ZIKF14VBD+8MwpLl13BQMybF3omrlLjEe0M/ZcUhCzfSMXHJOUxSbWmc87EtDH6huMxjX/LUS1bbQZ6pJ9o5Hl+Y86LumcDSL+KQ1XOJwIIfx+cNiCt4YfcQPvyP7TMPm8Vn7YE2g5AKbR+fP/roI3+oiUs82yxZIjqxhbQZ7Iv1j7ztGfvJyo+lyySI9ojtpA7yiktrk9gyREbeQP6pP7vzB84JvGCILcYzPJd4FckXgRUB7D1eagQOXjs4WjDxlEVcWlx4BymHBfoCApK+EQcEInWLY4TJPR5VW/LHUwlf+j+TXXsxJjIm4wRBOBdb2coiLvHqMs4QELZMsLigzdLinWPgmHSBnvGxMRKOsV5grGQsYQIXcjEW2DX6ChMeJqSkx2SJCQ950gU9RmoWeWcfIcbfltss23RAOibGFsHChn4GMlz2ScG8a6EAwjtBo0foMbAy+8LrYAGjg/FpyAU9zPDobAzmJkJNXOJlS2q8lm4sqvBIMqPCeCcFG8ys44TikuMxAhgjvsdQZ72gJyt7hDacbGYZ59Fm2hgzZngYTva3mIc4PJ6ysjeHgTTmAEcGVjyxGDh74QXDq2G3jUkTR3G8Wctp+aTuGiIuOS9LWyadLG0PHllZYlwZnNimYQOWlYc+Q/1xKw1CGj+2eGBYeVkd8E4bo80TH2WNl0ERBszy8RiFEyXLR7F34iomLvmNdkUboO9m4UY6Ji4ZGPH6cD6DNZNV0iKvJi45Po99yVMvSflNsh3kATGCOGcgDbkzoLLcF18clVVc0v6pN1vFieuBFZNrrrmm4EULf0dwhPaMyT1Xp+OpCpcXk9pDGI99NltmnmT7Pn4vR3vG44aX9OCDD84tLskPfZnJPUukcaAuaDNsY4gDNo7lV/ocdz/ArtMvqINQXDKhsb5qghBRZEvC4ViGMEJwZRGXLJOzJByvHrGSgLg0ERfnG+YIdNoaQpitajBg/KQs1BnOmfCFGMNxwjjLakdSSBKXTCbCZXFWCm3ljokpHnJ+Zx9umB4e1iQvfiwucU4woWRMtoBAxAkScrffGKvwbLM/k2OwOTiqsBsSl0ZpFnunc9JwbbktzD5LvohLxAsDGg2YPSXWIe1YPHjcvocOZd5BfqNh0cA4B4MYz+SSDL/FGb4XO46Ox2CAVwfj2lBxyYwJUYD4TdrfYwa5mLgkr3RgDAIGLKu4zMoeQ8pMDr7xLJ5yc4FOuGzOQEWdYkjDwLEYTyYJCNZYBPId+Tfvs52LUeDKWQwOdZ0mjuJ4s5bT0iOfDRWXWdoy6RRrU5YHe8/KkjaEF4jlxrAPEM/o0aO9YLclwjR+TMToa4iSMDCJoXxMDmAUi0uOpa7wSFHHtrc5jCPpM3EVE5cIGJZhGRAQhFm5heKSgQPvPp4iBDiTSdIMxWVe+5K1XorlN7YdcGNCFm7bMVaIGDyPLKmGIau4pP9SfpYZ40k8QgQm2E/yEIdYXPI7rJgMc5cIu4dosfYQx2e2LE1clqM9I4QRwQ0Vl9YmEIaULwwIQLx52N04UF9MxJjUWEAgUYcsX5vnMhQ5obhEnLL8G9pBJlb0g2LiEm+nXS1O/LQjXub4IB9M+BDLsV3mN/oqS8mcS0Cs0Sawu5SDuG2rkj/gf1vPuNcw43N8wR8CEe8nDh6cEjY55Fz6MVsq8CISLH4Tl/yOkyReFqc+EfqWR8sH76G4pK5Y8WJyHK4sMraSjyQnDmMPbOjXFtg7S7nZX0rfkOfSyMwi7zQKlq6Z6TH4YVQQB7ja6UwsRfMdDQYRxyyeGZmJHPZWMjvERR/fJodzaEg0GgZLOnYYMPws8dAQaYThC+8NS2eEYgMEDY4BnfjpnCYue/fu7QfmMD4+01itfOGyOGnwOw0fcYCHxY5jmYeryNmzSSelTLHnkvPpzMw455hjjoK4hCMDEMKdDhuHrOw5z2an1BUig3xwPvtwELXsm7JOjxFACFKnDOSkDStEC0veiBK+i0UgooXObHtdw/zideNclkQQRxh2jGHImLbADD+ON085SZOyFROXxMVAkbRviXOztGWOy9r2srIkTvJFO6FtET/1hCeCgYp2RVyEUvzYJ0bd0aesPv1J/7sqkwGL5SZEQpK45FgTHwxOiI+0dghvxCVXmDLwUacMIngpmNDgyTOhm5VbKC7Jk4k5LlLC80Gaobjk/zz2JWu9ZLUd5h2yfdnGnHfKjlhhsCafFrKKS47HnmLrWCq2W0ox2LKNholhuARr8fOeJC75HuHDxJp9geSJF+0BG4adDfsln7Gn2Kis4pI0ZqY9I8RZ/mS8oL3TBvFMUf/YsjB/2GXsUXyfS85hMsxKCsIKAUg5YUlbpW0medGw09gnJrUcT3o4DtjewL51+hUrEsXEJbaf32DJuXDDvrI1qpi4NPtsq3Bcmc6YiIOG9Cgv22ZwstiEIKxnWDNxRICSZwQjNoMJmXn1aIO0ObjAAPEGUwQsq4zkl5UC8s+YSny0KzylMCRPcMbDidAuJi7JFyuRjCtsuWHsYCxmfMMWJDlgYIQYtb35CHQu8GHspM1RZi58ZaxmTI0DNovfzjrrLM8LfUHZ2SbAQwMkLmNis8j/NGQ2BtN5eLExG5c8HSx0a9MwcZPTiKl0juGdmXex+42xFIBRtb2XIRIMPwayWbNm9V6INIQjodgAwW82kOJ1+Pjjj/3AmxQf37EkkbQcbHliXxIeTPLE7RzYNG/lQzjTqen4SeKSOBAToecSo4J3AbGA6EoKWdlb/JSTOjL2iHZm6uEMmWMxAPCzOuWdPTTcb8+W9yiPiWz2/GDMuO0MxikODACIJNoEV73SRmLOMMNLF8aLUSDkKSeMi4lLjDRGKJ7FW36zppO17RFvFpYcR31zj0REOO0XPlzYwJ65cGmPwbYYP5aTGBi5yjopMAhRj9RBMXHJeYgPlpgQH//9739LtkN4Iy4tz7yz14l+i/gxMUS8WbnF4hLvCN5UBhjrR6G4JO689iVLvWSxHXhEEA+s0tDO40B/oF8wsNJPLOQRl5zDQM9yO22CC1+wLeyRhFWxUExc0q9sYo2woQ5pD1yQGfdL/ict2k4ecdnQ9kwesE8IScYL6psXQsjaWJhHJrT021hcwgRhxT0tEUd2sRJ2hv3lto80ZoeXEZtLmckH/YlVM7y9TPYoVylxSXxM8rDdxMEL28hkvZi4hCvlZcxgEoI9RpjRB7G95Jk8IfKTAuMDd0/gWLYgcTzjqk30yQ8TS/LCMbwzFlh7RPzxO+eRB8YwbCRtlwk5Io9zsDuIPrzJLD8TYs8l38EIxwWCnPN4wY82nxSoX5baSd9W2DiWMYNzyTPimPGBthoH0kNEknf6BvVGnyOPbNViYiHPZUxtFvofIWkXwsTLN2ExaEiINGYg5l0Mf5/VP2O4EQOUz7xNDS0TXg+MRiz+4viysuc88oSnlkE/SQiGcRMvXgSOLyZww+Mr/TlPOYvlhVm57V8sdkw50onjzsqSAZGJBrezYdBMMqZx3JX+P2s7rHQ+ssSf175krZcsaVf6GNoCAta8iwjqph6aQnsmDyydsvycZcyBK44H7J5NcPNyph0i7lglSbOzxI13jvGTPm+BbQ98x3iZxQ4gIikj6ZJ+HJhQ8XtSfMTP96w+0CfCwG+IcTybsMwaEKbkH/ZpYxjMGTdDXohGzuW7tPPJE2KZ/Cd5pLPmuTGP0xN6GpO20ioQwDgw+0u60rRwkD7kIoCwZrkt9KblimA2PFjtcDasdBVZBESg4gQkLiuOWAkUI5BltlrsXH0vAuUioHZYLpKKRwREQAT+fwISl2oJIiACIiACIiACIiACZSMgcVk2lIpIBERABERABERABERA4lJtQAREQAREQAREQAREoGwEJC7LhlIRiYAIiIAIiIAIiIAISFyqDYiACIiACIiACIiACJSNgMRl2VAqIhEQAREQAREQAREQAYnLEm2A+wbyiEZ7ggg3nOVGrOUOpdLhPnw8OYG79yuIgAiIgAiIgAiIQFMnIHFZooZ4WgSPpeLRZAhLHiHFIwLLfV+8Uunw9AOeYnPGGWeUyKl+EgEREAEREAEREIGmQUDiMmM98KgnnoN89tlnl11chllorHTCNPVZBERABERABERABMpFQOKyBEmeg9qtWzf36KOPeu/hwgsv7Nq2besOP/xw/7D4YcOGuVVWWaXw4PmBAwcWfTYp3s4xY8a4TTbZxD+AfqmllnLnnnuu++233/zzVoulwzNZeej9eeed59577z237bbbuk6dOtV5bb311v5ZsRTlySef9GnMM888bokllnCnnHKKQ7ASKM/ee+/tyDdxzD333G611VZzd999t/8dL2meMvmT9EcEREAEREAEREAEAgISlwGM+CNibqWVVnJ33nmnu++++9yqq67qunfv7h555BH3+OOPuxVWWMGLsXfeecddfPHFXsxxXFKYMGGCF6aHHXaYf9j9VVdd5dq0aeOGDh3qRWOxdH755RcvcA8++GD33Xffudtuu83deOON/jVkyBAvbjfbbDP/MPuXXnrJ5wnx++KLL7q77rrLi8c+ffo4hCPlWXbZZf05I0aMcORp11139ccgPJ9++ulcZUoqp74TAREQAREQARGYvQlIXJaofxOX99xzj/f+hcviCM7ll1/ePffccz4G9mSOGjWq4EEMo8VrecIJJ7hNN93Uff/99/4nLtS55JJLHCKzVDp//PFHQVyGcfL9SSed5FZffXV/wRFpHHPMMQ4v5s8//1w4dOTIkW7llVd277//vk9nmWWWcYMHDy78/thjj3lBiRjNU6ZCBPogAiIgAiIgAiIgAgEBicsARvyxlOj7/PPP3YYbbuhatGjhOnbs6E499VT3xhtvxFH4/3///Xe38847u0MOOcQhKuNQKp0kcUkcl112mRe3TzzxhI8OccuSecuWLd2aa65ZeOERbdWqleM4S+fee+8tZGH8+PGuffv2jvc8ZSpEoA8iIAIiIAIiIAIiEBCQuAxgxB9NjCV5LjmWvYzcJoil8tatW7sFFljAXXvttXE0fl9l165d/V7NpCvNS6WTJC7xkLL3E6+kBbyVXNmOwLz11lu9F5XjeOGR/PLLL724REjef//9dpoXlSYu+TJrmQoR6IMIiIAIiIAIiIAIBAQkLgMY8cdSou/VV191d9xxh0P8ERBleCcRkdOnT68TFZ5G9kxuv/32/pZG9iP7HgcMGFDwKCaJ2Fhc4oFk3yT33wy9oDNmzHD77LNPvWVx7qHJfTqJh/KUEpd5ymRl0LsIiIAIiIAIiIAIhAQkLkMa0edQXOIZZD/jcccd50WdeQ8RhHgjuSCGK8FZ+kboxeGBBx7wF/Dg2eTimtdff9116NDB75sslU4oLt98801/MU6PHj0cnydNmuRfnM9V5VzAgwe1f//+XsR+8cUX3qvKMvmUKVNSxWXeMsVl1P8iIAIiIAIiIAIiIHFZog2Eog8vIbcE4vY9XJjDjc+5uTm3/FlwwQX99126dHEffPBBYowIyosuusgtssgibr755vN7Nbkp+1dffVXHcxmnwz5IblOE55PbBDVv3tw1a9aszovvhg8f7r2TpLHooov6+NkP2q5dO8dFOwTKU8pzyZXpecqUWFB9KQIiIAIiIAIiMFsTkLjMUf14JFlifuutt7z3kVOnTZvmnn/+eS8qw2XqYtFytThXZn/00UdFb8aelE6x+JK+Z4me2xLh3eRiorwhb5nyxq/jRUAEREAEREAEapeAxGXt1q1KJgIiIAIiIAIiIAKNTkDistGRK0EREAEREAEREAERqF0CEpe1W7cqmQiIgAiIgAiIgAg0OgGJy0ZHrgRFQAREQAREQAREoHYJSFzWbt2qZCIgAiIgAiIgAiLQ6AQkLhsduRIUAREQAREQAREQgdolIHFZu3WrkomACIiACIiACIhAoxOQuGx05EpQBERABERABERABGqXgMRl7datSiYCIiACIiACIiACjU5A4rLRkStBERABERABERABEahdAhKXtVu3KpkIiIAIiIAIiIAINDoBictGR64ERUAEREAEREAERKB2CUhc1m7dqmQiIAIiIAIiIAIi0OgEJC4bHbkSFAEREAEREAEREIHaJSBxWbt1q5KJgAiIgAiIgAiIQKMTkLhsdORKUAREQAREQAREQARql4DEZe3WrUomAiIgAiIgAiIgAo1OQOKy0ZErQREQAREQAREQARGoXQISl7VbtyqZCIiACIiACIiACDQ6AYnLRkeuBEVABERABERABESgdglIXNZu3apkIiACIiACIiACItDoBCQuGx25EhQBERABERABERCB2iUgcVm7dauSiYAIiIAIiIAIiECjE5C4bHTkSlAEREAEREAEREAEapeAxGXt1q1KJgIiIAIiIAIiIAKNTkDistGRK0EREAEREAEREAERqF0CEpe1W7cqmQiIgAiIgAiIgAg0OgGJy0ZHrgRFQAREQAREQAREoHYJVFxczpgxw91///1uv/32c5tvvrnbYYcd3DnnnOM+//zzqlN988033cknn+yuv/76mcrL77//7u644w63//77u6222srtvPPO7rzzzmtwGWH23XffzVSeip1cybiLpanvRUAEREAEREAEZh8CFRWXf//9tzv33HNdixYtXLNmzQqvOeaYw6222mru3XffrSrpO++8080999yua9euDc7H119/7XbddVc355xzFspHWSlj27Zt3cMPP5wr7ldeecVtvfXWXoD/888/uc5NO7iScaelrd9FQAREQAREQARmDwIVFZcfffSRW2mlldzCCy/srrzySu/Je/bZZ12HDh28GDv++ONduQVUnmqbWXH5559/uj59+rjmzZt7IXnddde5zz77zL344ouue/fu/nvKn1VEw+Kkk07y5/Xr16+sbCoZdx7mOlYEREAEREAERKC2CVRUXL799tuuTZs2bskll3QvvPBCgeRdd93lxVf//v0dAo1l5UsvvdStsMIKXljNP//8fnn5tdde8+fccsstbsMNN/TH9OzZ0y244IJuueWWcyNGjHD81r59ezfffPN5D+LkyZP9OWPGjPHnsASPAFx00UXdEkss4T2pv/32mz8mFpcIsAcffNCtt9563tu6zDLLOPL466+/FvIefpg4caLjGPI7atSo8CeHR5M8IzyJg+XoM844w22wwQY+DQ4mH0cddZTbdNNN3TPPPOOGDx/ull566YLXk2V2lsdPPfVU16VLF4d4Zdl93nnndWuttZZ76KGHfJrkuyFx//vf/3YXX3yxzxNpK4iACIiACIiACIjAzBKoqLj86aef3HbbbefF0kILLeR22mknN2jQIPfOO+/U8crdfvvtXqCxjLz33nt7cccy8y677OKmT5/uRSUiDQG5/vrruy222MKLv3nmmce1bt3aL2tzLuccd9xxnsnIkSMLQhXv4Y477ugFJkv0F154oU8/FpdPPfWUW2yxxXxeyHe7du3cXHPN5c466yzHEn8c7r33Xi/0VllllXr7KxF8Z555ps8T5UBI7rXXXj5PJuR++eUXt8022/hy3Xfffe6GG27wQpwldQQ5x3/77bdu99139+chqjfeeGMvRikHwh0vKXlrSNwI16OPPtrHfcEFF8TF0/8iIAIiIAIiIAIikJtARcUluZk0aZLbcsstvYCxfZcINi7s+eSTT3yGX331Vb9s/vrrr/v/8TriaezUqZP75ptvvLhEOOLh+/777920adPcGmus4ePE80ZAmBEvIpJg4nLllVd27733XuE7BKrFG4pLPIu9e/f2cbJPFHGIZ3L55Zd3iEeWu+OASET0IviSLsAZOnSo/71z584OL2GaACTNeFkc4Yi4RHDuu+++Xmzj6cWrCROO/+uvvxoUN+VB6OOt/fDDD+Pi6X8REAEREAEREAERyE2g4uKSHCGaEI54DLfffnu3wAILeLHUrVs3h/cOYccSL4KJJW4EG0J0nXXWcV999VXBc3nQQQd5Lx3ePJac8eQhRAnmRcTjSDBxyd5Hlt4JH3zwgV/GxsuJ6A3FJaIV8coFPng/b7zxRjds2DC36qqrupYtWzr2isbh1ltv9R5UltFZBo8DwhcByFL2Dz/8kCgAuXgHwYvnspS4RDiTJws33XSTF9NcTIR3N0m4psVtceldBERABERABERABMpFoKLi8vnnn/dCbfDgwXWWlR944AF/kQ/7Fd9//33H7yxx461ELB155JH+93XXXbeOuOR7BBhewo022sgtssgi7vHHH/csEGeItFLikguMll12Wb+vEa9kKC4RrOyHRNiyHN6xY8fCa5NNNnETJkyox/zpp5/2eV588cXdSy+9VOf3P/74wy/xIy4RxQhcE4AmEtk2gFc3i7gkXwhKC4hnBCe3PQqX3PPEbXHpXQREQAREQAREQATKRaCi4vIjm1EOAAAgAElEQVSee+7xexIRdHZxDhm/++67Cxfl4NG0i1RGjx7ty2WiDXGJR5CLfRBXSeLyiSee8OcUE5dcmW731Bw3bpwXpHz3xRdf1BGXLDUjbPFcmojDm4n3Eg/ljz/+WI85IhfhiYBk6ZrjCQhg9pEilrnYhwuYWN7GM0s5LrvsMn/c1KlT/ZXzobjkvpscw35N4gmXxY844gjv5eV7O44LglgWb0jcZAJhSr4pv4IIiIAIiIAIiIAIzCyBiopLhCFLzewXxLvHEjV7Irk1Ed9xY3WWi7ngBYHGMi4Xlqy99tr+99VXX93vr5wZcWnL0lyxTXwIt759+3rRFnouAckeSq7ExqPKrYC4Mp0LZ8hXkrjkHJbzuaiI8rA/c4899vBXduOJJe1evXr5q80RhMTJd+zhHDBggPc6En8oLtnvSR4RrewjhQ/ClW0CbCc49NBDHbdwQrjiuX300Ue9CG1I3JRJF/TMbBfS+SIgAiIgAiIgAiGBiopLEuIejyxVI6Lsgh6EF1eF47kj4H1E0CHQ+A3RyX7LVq1a+eXomRGX7IdkfyZxI9oQauzjJMTiEu/d2Wef7biynbwiBLn4hyf5lApPPvmkX6ZnmZrzSIurzonr559/LpzKPk+8sfzOsew5ZVnbxCUHcksirhQnnhVXXNGxlE+eyctuu+1WuJqcPF5yySXek8l5DYn7448/lrgs1I4+iIAIiIAIiIAIlINAxcWlZZJlaO51yd5E9jfGgf2HL7/8spsyZUr8U4P+twt6EGZc8IJAZH8ny8xpAW8h+eRKai42yhoQy9waiPt7kmZSQMCSF67OxpuZFPD4Eg9XxduyOMKYMpE3OJlADs/PG3d4rj6LgAiIgAiIgAiIQDkINJq4LEdm88QRisssgjJP3I15bCwuGzNtpSUCIiACIiACIiACeQnUrLjkyT0sxffo0SOTtzIvuMY6HnFJGSgLZVIQAREQAREQAREQgaZMoGbFZVOGrryJgAiIgAiIgAiIQK0SkLis1ZpVuURABERABERABESgCgQkLqsAXUmKgAiIgAiIgAiIQK0SkLis1ZpVuURABERABERABESgCgQkLqsAXUmKgAiIgAiIgAiIQK0SkLis1ZpVuURABERABERABESgCgQkLqsAXUmKgAiIgAiIgAiIQK0SkLis1ZpVuURABERABERABESgCgQkLqsAXUmKgAiIgAiIgAiIQK0SkLis1ZpVuURABERABERABESgCgQkLqsAXUmKgAiIgAiIgAiIQK0SkLis1ZpVuURABERABERABESgCgQkLqsAXUmKgAiIgAiIgAiIQK0SkLis1ZpVuURABERABERABESgCgQkLqsAXUmKgAiIgAiIgAiIQK0SkLis1ZpVuURABERABERABESgCgQkLqsAXUmKgAiIgAiIgAiIQK0SkLis1ZpVuURABERABERABESgCgQkLqsAXUmKgAiIgAiIgAiIQK0SkLis1ZpVuURABERABERABESgCgQkLqsAXUmKgAiIgAiIgAiIQK0SkLis1ZpVuURABERABERABESgCgQkLqsAXUmKgAiIgAiIgAiIQK0SkLis1ZpVuURABERABERABESgCgQkLqsAXUmKgAiIgAiIgAiIQK0SkLis1ZpVuURABERABERABESgCgQqJi7/+OMPd+2117oRI0a4f/75p1C0H374wQ0YMMANHjzY/frrr4Xvf//9d3f11Ve70aNHu/fff9+dccYZ7oQTTqj3OvHEE90zzzxTOK/Yh++//96dd9559c63OE866ST32muvuU8++cSde+65btKkSfWi4nd+++KLL3xeL7/88qLxUVbKHIdffvnFDRo0qHBe37593cknn+wuuugi98orrxTYfPjhh7nK/OOPP7phw4a53Xff3W211VbuwAMPdA8++KD7888/C1nImvY777zjyzl58uTCueEH6qkhZbc4suR1+vTpvjxWP+E7vN566y2LrvBOu7r11lt9OzP29913ny/Ll19+WTiODxx7++23uxtuuMHNmDHDt7HTTz/d1wt1Qns455xzHOf/9ttvdc594403fJzTpk2r87218QsvvNBRRgUREAEREAEREAHnKiYuGcyPOeYYt+GGG7pvv/22wPqJJ55wLVu2dEsvvbRj0Lbw6aefulVWWcUNHTrUPfnkk65169Zum222cb169arz6t27t3vsscfstKLv33zzjUM02PlrrrmmW3zxxd3ee+/tv0OMPf/88+7pp592bdu2dQ8//HC9uEaNGuV/e/PNN30ZNthgA7fGGmsU4rS4eb/kkksSxeVXX33l1l13XbfWWmsVzttvv/3cJpts4hZaaCF36aWXeuGTp8zvvvuu69Spk1t++eW9KEK8Up5WrVp5sWm8s6aNoILBhAkT6jHgC+JrSNk5N2teEWddunTxbSDkyueDDz7YC/E4c3///bfbZ5993LbbbuvFP22uT58+rnnz5r7thUKbY4lrxx13dAjZRx991PPafvvt/ff777+/69q1q/+ONvvee+8VkkOUwofJRhjefvttXwe0ZxgqiIAIiIAIiIAIVFBcAhcv5HLLLVcQkQz+559/vhcqiD28SBYeeeQRP1C/+OKLXlwymPNdOQLp4glbf/31HaIzDHnEJaLjuOOOK3gbw3iKfUbgrbfeeu6UU06pcx5eryOOOMKLKYQ14jJLmfHI4qns3Lmz+/zzz+skizhcYYUVfB7xzmVNO4u4bEjZ8+QVcbn55pu7Qw891CEEs4Ri4rJFixZu0UUXdffff38hmiRxCW8mO2FADDMR2GWXXdzPP//sfyomLplQILoRpT179nR43xVEQAREQAREYHYnUDHPJWBZam7Xrp3DA0hgeZWBmOVHPG14ixBBJjo32mgj7yXLKrSyVl5TFJfknSXdJZdc0uUR1Pfee68/B89bUhg4cKAX6RMnTiwqLuO0KyUu8+S1nOISwYfXG1FvAjyruDQ2Sy21lPdq83+SuGR7BwL/tNNOc7fddptbccUV3euvv55UJfpOBERABERABGYrAhUVl+z5Y8kSryECD7GJx3LcuHFu+PDhbp111nFTp071Hp9u3bq5o446ynutGltctmnTxl1xxRXu5ZdfrvPCy4p3y5bFG+K9K+Y9RFSzbL/yyiv7fZ9ZygzDU0891a2++uoF0RS31ueee84hjO64446i4jJOuxLiMm9eyykut9xySwcHBN+xxx7r96HmEZcIc+qdLRqEJHFJG8ZLPH78eF8XHTp08PsyKbeCCIiACIiACMzOBCoqLhlozzrrLO9FYokRDw/eJC6MQLCxx3Ls2LFuypQpfimSQZyA0GJZc95553Xzzz9/nVf79u3dBx98kKvOyEepZXH2zCWlNc8883ihZuISjxhLrnGe2Dt58803J+bJ9j2yx5ILSHhx8ch2223nFlxwQb9NAOGTpcwcx57TjTfe2H333XeJ6SHgl1lmGXfllVd6ccl+z7S0s4jLvGXPm1fbcxnzhVG/fv3qbCmwgpNG0p5LxCXxIQ7ZZ/vAAw/4SUu85zJpWZy4ubAJj3v//v19UrG4JN0jjzzST5xo19a+YB1fSGR51bsIiIAIiIAIzC4EKiougThmzBh/EQxXgLPHkAEez9lPP/3kEAF4BxGYXChjV2wjtPAmDhkypI4nEc8iQi/v3jYb/Mux5xIx89JLL9XJF1d9FxN7Ji7xNu65555ur7328oKIq94ff/xxzwJOWcqMqDnssMP8Pr9476g1WC6S4mKp6667riAu09LOIi7x2uYpe968mudyt912q8MXtni3k0IpcUn7wnNOfExoPvvss3oX9BQTl0xe2CvMxVaEWFzaxWc9evRwN954o38xeWFCZBOkpPzqOxEQAREQARGYHQhUXFziBWL5e+TIkd7jZhfxIPhY4uXCCW4ZxFW7iAECQouBv5Yv6IkbV9Yys3y/7LLLOm4flBTuuusuvycT4VpsST4+L6u4zHsxU568mrgsxwU9TFoQlwTENsvXXEWOOA6vFi8mLmHHXlj2jBJicYmgXGSRRfwWj44dOzp7cbV+9+7d693KyEeiPyIgAiIgAiIwmxCouLjEy8i9GPfdd18/GIe3H+K+jAjPLbbYos5+taxCK2sdldNzmVdgZRV4WcuMqGQvIfcBxXMXBgTVzjvv7DbddFPvSc2adqXEZZ68VkpcwgcPOLe2whuZJi65ih/vMHuD2a5BCMUlF6XttNNOvk1zS6MwIKbxuHOBloIIiIAIiIAIzK4EKi4uAcstW/D02F44g41XkyXbJZZYos69KxFaLO3i5WSpPHxx/0Fuak7g+1tuuaXOfTQt7vC9nOKSPY/cribME5+5GXt4X0VLP6vAy1pmysINzfGSsX/z66+/9kmx7YB7eMLS7tmZNW3EpV0EFJaLOPEmc59LlsXzlj1PXispLtkXiUdxjjnmqCMuEYLc5J8yU6dPPfWUvxUS+zTDPbShuGRLBB7P8Hera+LAS4pHnrITb5b2aefrXQREQAREQARqgUCjiEvuJclFMzboGjjzaq622mp1rn5GaCFGmzVrVu+FQGDfIoGn4iCK2JdXKpRLXHJRS1Ke+I4bmrMXLw5ZBV7WMhM/e1a5jRH7VLkAZoEFFvDv3IQcgWQha9qIy/nmm69e2eaee25/r1K7iXresufJayXFJfnAYx57LrkQy8o055xz+jaHF537Y9JmLJi4pJ1xgRoXojGZiAOTC26vhdeTWyBlbZ9xPPpfBERABERABGZlAo0iLisFCHHKRUJ4jGbHwLI4gpYLncyb21Q5zEp5LRfD2b19louj4hEBERABEZi1CMzS4hKPKE++iZ8FPWtVgXJbqwTUPmu1ZlUuERABERCBUgRmaXFZqmD6TQREQAREQAREQAREoPEJSFw2PnOlKAIiIAIiIAIiIAI1S0DismarVgUTAREQAREQAREQgcYnIHHZ+MyVogiIgAiIgAiIgAjULAGJy5qtWhVMBERABERABERABBqfgMRl4zNXiiIgAiIgAiIgAiJQswQkLmu2alUwERABERABERABEWh8AhKXOZh/8803bsCAAW7ixIk5zsp+KM+kvvjii7Of0IhHjh8/3g0aNKgRU/y/pHgi0fXXX+94ktCsECrJimeb8wxz7qFZLHBD/e+++67Yz036+zDv9LcLLrjAvf322z7PlD3pKVjFCsRTlj788EPH8+IbEn744Qff35955pmGnO7P+eCDD3wcU6dOdXF58kTKQwhuuukm/8SsrOfl5ZU13lLHTZkyxZ177rluhx12cFtvvbXr06ePw64lBR7le9ppp7ntt9/eH3/yyScX6prjP/roI9evXz/36quvJp3u65a0eMzqmDFjXN++fd0JJ5xQ73X22We7adOmOXjw6NzwmBNPPNGdeeaZ/olnPCXMAu3mjDPOqHOsncc51iaKtRHSGjlypOvZs6fjqV+77LKLGzhwoM+HpcFjaS+99FL/mOP40cHEe+GFF7oJEybY4SXf6TeweOihh0oepx9FoLEISFzmII0xbN++vX88YI7TMh86evRo17Vr18zHN+aBQ4YMceuuu25jJllIa/r06f6Z4Mcee2zhu6b8oZKsECg8hpRBKSm89dZbrmPHju7ZZ59N+rlJfxfnnUdsbrXVVm7s2LFeGOy+++7unHPOqfNozlIFGjZsmNtyyy3d999/X+qwor9NnjzZtWvXbqYmVY8//ri3GQiksDxFEy3yA+KDp5EheLIExE1eXlniLXUMk24e5du5c2d30UUXeSFHHlq3bu2Flp2L6Ed4Lb744m7TTTf14hvhhRhddNFFPW8mlDy+tlOnTu6QQw7xj7y183knDsRUhw4d3GeffeZF6mKLLeb23HNP16tXrzovBC7H2GNseWxueMyOO+7o0yUviFACj+Ml39tss02dYzmvd+/e7rHHHvPHJbUR6hkGSy65pDv88MM9B+qNx8au/P+1d9+xthXVH8BB6VUwIr2KgAgSRIoEJAhKBwGpgiAQBQQRgzQjElEJonQQpBfpHcUgRhAEBCRBEFsUNEFiNKLEqPGf/ctn4rq/eZt92n3n8e59d63k3HPuOXvPrPnO7JnvrLVmZu21m6eeeqrc+/LLLzcbbrhhOXbWkbO1IOmuP++88+qve35+5plnmhVWWKE5/vjje16TPyQCbyQCSS5HQHtOk8sRVHnDL52ThGlQYZJc/j9Cg8glS4cJ0HQkl/10Z1ViAWKFqs99/39kZv3kmi996UvNlltuOWXI5awaztn/RsVrdrWBNwK1ySabFFIY6SHFhx9+eLPpppsWcud79bzSSisVQuiI1BCE8swzz2yWW265YoGTJsslktW2WCOK0kSm3McCavKLkPaSuOeYY455XRu6//77C9nVzxHkko733ntvr+TK921y6bQ4BHeDDTYoFtX6ZtZFBHafffZplDvI5YILLlh0f+mllyYuH5VcmpgluZyALz9MAQSSXI5QCcglSwb3ixn1Qgst1Ky33nrNzTffPJHKgw8+WKwtSyyxRKPTMJO/+uqrS2fGZbH77ruXWXTcYKa85557NnfccUdx++qYCBfwoYce2px22mmlk1t00UWLVZObLeTpp58uLqXFFlusWX311ctgKq0nnngiLpl418mz5OioF1544XI9awHiRl577bViCVh55ZWL3iwC1157bcMdR9rkkpvPDJ6lQf477bTThEuLlUAHyn270UYblfy23nrr4h479thjyz2sAvKnl8HBICHkYP/9929g53cDBgtMTS510MrI8hFiEBJOIO22GJQ++tGPlt9YErbaaqvSqffTf1xYSefEE08sR5T6HHLfffcVqxKc+unheu4x7Y2VZ9lll20++clPFmtHl+VS+zR4LbLIIqVdXnHFFaXdaVvRXpdffvmG+1G6XQJLLsYtttiipON6FqI4YlX700aXWmqpZvHFFy/1bmAjg+rRNYgFkqiOtZ399tuvPA9dusNnt912a+DFaidPAz5r0F/+8pcGSYADnYkyaZOeN213lVVWaZZccslivXz22WfLgC60w7Pi2Vx//fWb6667bqKNl0SqP23iMMwzyYLEJeyZ8KxxpeozWC6jPPoIou4PO+ywBsZvfvObSx27vnbPhjqw5Y5FmEk/XTwvbbw8R/3qLvKp30fRTx0ceeSRhfC98sordTIN7C+66KJSP/oTZdYeu4jgq6++WvpP/aRyPP7446XOr7zyylnS1EZXXXXV5qGHHir1P7vkUllZNPVDyjJZcmlSh+TV/VOtuDFAn84ljlzqH/V52iTPTPQTo5LLF154odF3s+ynJAJTAYEklyPUggHQ4KZT09k99thjheggkDoD7hCfDzjggELw/C7mZs011yzxQe434NQd5fXXX1++EzckrhBZJT4HadPR3XLLLSUdhJMgWTpobkOuN4Mki5UB2/VtEaOnA0MwdfbIGAuBQUqHjwTpFBHCRx99tJAxbqYbb7yxJFWTS4Mf9z0CcvfddzdiDLm/Nt5448bsWzl1dMrK1U8/5UKQDHpisJwJD0uDh5g4JAJ5OuGEE8p3OmD/33TTTbOQS53vgQceWNxVOmgS7jO6t4WrbsUVVyyuZHogKga/fvqPEytxcnAQw0Xof9BBBxW86N1PD/WCWCJJl19+efPAAw802223XbPAAgt0usW5f08//fTijmNFEquozMgL1yJid+mll5b0WJO6YhHDquR37feCCy4o7YJ7Dm7IK7f8nXfeWdzV2h8rDRI/qB7Fgbr/kEMOKa5BbWedddYpZJFVqa27duTZ0Qa1U9ciHaxJSAh3pgE5yGVt1dXGtUnYKzPdtXntUlmefPLJQtS0wbZLMtpQm1wOeiaRBZa7eCY95/oKzxlyGeXxLMMKETaJQ5TUFf1Mqur+IXQJbOP576cLItrGC3nqV3eRT7yPqp/7lGOZZZYp/QALJKJNl1rCeqg9xsS1/l1dmsxwH8PfpEa8oroMK6c0EVSxmibF7pkdcul+ZFDfedlllxV1JksuzzrrrGa11VZrkL1BEuRSu9e/6h9NBMmo5DKuP/vsswdlm78nAm8IAkkuR4A5SJMOJMSAbwBEmHQWrEURt+Ma8WJrrLFG+R2xELOz1157lY7S/2atXjrzNrlEilgniQ6QVUMMGWGZkW8sdvAdgsk610UuDdA6PTN9wpIhDYOwTtzALU4qhNWAniySOviaXBpEEFXEMAR5MpAjU4FTWNfoLu5JLCBSTORLfwO7su+6667N9ttvX/TyOzKAPFvQUVsu/cZSjBQgQoQ1gP7SbAtyiVAgSSGD9B8nViYcLCIxaFmkgGizrg3Sg6XLZKVeSKU86jGwjTLFO0zCLW4Q1t7EsgURdx2yJY2wOMa90caQkIhTRAAQBfjdcMMNBcu63k2KWOa0j0H1aABUHhZqbZ9oq3Cga62732oy1nbz1m2C3qQml76r3eIxkNdtnL4spyzhPreli1z2eyaj3SCuIRdffHFpq21yiSjdeuutzSOPPBKXTrR5+LSFfiZgNbnsp0sbr0F1185vVP3cD3OTN30U78j8889fys6jEH1ikCCLaKLe2nlfcskl5b5on/pUfWj0dZ4h7Qi2kS9yadJlQt5+8Vxob4itiRHCbwIQLwSftZ9RIKzG2iWy6ft2ep6v8CDVbUR5TAbFUUY/Rz+TSDGa2rmXCR8re7RJfZznc4899piYoAdOw8ZcysPk3iQ0JRGYCggkuRyhFurBLm5j5YvB3Hc6MESCi8igzvrGGuE6wmqBhD333HNldquTNCiRNrlESlgciI7LjJ5b12edc00CXKMzlnYXuWRRFKPEHYjksRAGcWV5RBZ1erUgFaxSOsqaXCI73PQIHdeiF8LE1SldZUMclZXQl6WyJjk6Z7iFFcfAWVszdL7Kqsw1kZCegUoHDgOkhDWUqzYsG3UZkLEgsfH9IP2RunFhRT9WFpYX5UC+YSqPQXpEvZighARpGIZcBobc4OogBNFBLlkfa4HfzjvvPEs9xO/R/gzOSFwIy5FFD9z1//rXvwoB6lWPBniDrzZocoD4mlxEvc1JconwseAiFtFmvbMqKpPnti01cfCb57PfM4nMmhCZGIUgj57xNrn0OzyQMV4D7UM7RZBYsur6cm0Xueyli+ujnYhR1QY9R/3qrp3fqPq5vhZtRL/GSr/00ks3m2++eelH9Gdw1x905SkNK7pNCE1ciHpQVlY590Q/aeJGfIdcwtmzYvJTv5BRElZTYRkMBEid5xxJ5yGpLan6UJ4c/V6dls8sstFm6zZCD3VJjzp+koVe3SqT9mZM4D6vySX99MfhHqezvnxYculZR5aVIyURmAoIJLkcoRaQS4SodqMFubQ1Besd4mDgFHOo82KFMKAFudShGIAuvPDCMvMWhB6z+ug0qeSzGXX8puNqk0tu6XrLmX7kUpoGHOSGaxHhFTNn9k93nVrEggUkOnMDgQGhJpdiJZET1izWz3ixnFoJ2caJ7gYTJAQZIV3kkis2OvggRl3kUnqsIVyQSAOyfM0114Tas7wjl+qs3qJjkP4SGBdW0mKtQMQRDCTiU5/6VCnnID1YmdukH35c48OQS9ZHExADHsxC1JH6q9ux31iouenFNNbX+83/FlcgCTURYwFncVZ3yLNJQq96lA6iw9pvQqBekCnPinJNhlweffTRE7qGtRs29K0tl1z8nkvtMNprvCN4QRYCI+81cfD/oGeyi8CJf/YMtcklrEw6xJHCzwSAxQ6JGpZc9uof6Noml4PqLp67KP+o+glToH+X94CLXogN4hNtjKtbHm3RPoRNeLZjEkM39Wxyqv/kTTGZCZ3V9WTd4vLgXtcn14uGkEvtZdQFPdzrSGmv7Ze0NWEuXeQSFvpZ7nF96yjk0nOobxmkbxvv/D8RmFMIJLkcAdk2aXJrTS7F/CEDCE2IAUxnY+AkOkIDnEHci6vbd2RYculaZIqrKFxHvhPfyDrTZbk0uHGNhfvP4MNKRQczZjNr+YeExc0s38BRk0t563jN4kMMztJBCts4RZnHRS7liaCwBCApguJZAruki1wO0n+cWNHJAIaUqWtWjdjGZJAeJitizwzaIYg+UtGLXLKUIW0GL3VtwPGqyRNrMexiwhNpG6y5XQ22BqsQMYAmSdzp2klYlPzOfYcQmUiFda0XueS6q8NG5MdKZbDVjmvdpa0dyY++NVnSnpRH+0XQgmQgg/DqIpesXHAR11iL2Dj3xTNY/zYKuXQfYkFflvsQxAqRb5NL1i91YKFLSOiIFLf1CWxrt/iw5FJag+oudIj3UfXTxhFCi6yiPiIt7mwTbP0TUWb9VNtT4jc4ufaUU06ZBQN9mvAL9yJdVneHKN9kyaU0EGJpI7z6OjJZcomgesaFAUVfG3p6H0QuucdN/vWvLJzDWi5hrq1psymJwFRAIMnlCLXQJk1urcml2aZOU8enw2O1QHzE7tSbXrNIIZyura2Fo5DLekEPssJqqNOVV51mFA/J1WEZqOmGjLF8cmEiElyUSILyIJaIKP24xklNLt3LGmNBhc7MQO861lDxkG2c5DdOyyV9wipnxX5txYjyxnsXuRyk/zixoofyW8XJSsWSGJa/QXpwmyJq6kVbMvBYzSqerRe5dJ1JR1gwxHZyxRmkDHaI4WabbVYIZAykgZV3Cwq0TRZt+bNyIjHyRXZZYMUII4rut6AGSTLRCALUi1xy9bkfydbmWK60C20JSW3rXpNLZWe5CvJiMJWPe5VJeiy0NTaIpDg01i5lQURN/jwv7mexRwZ9r823ZVRyqT55Liw4U8es87ZC6lrQg9DADYmCG6urZ1HIQFc8YmA7LLls4zWo7tplH1U/bVwfwOqmbUbMLky0F2EsPhMTBQRKO0U49R/w12bVp4lY7VaOe7h9TR5MeE1iQ+SNXHpOTOK1h/qlHcEj3OJdWxGZwHHfC1WRHnLJXY6U1/TXT1IAACAASURBVGn5LL2IqWy3ETqZQOkLtU/XEu1TmAALqTZoMtV2i0d5TNIRbDsIBLmEmX6pNibE9d49i36PPTTr3/JzIjA3EEhyOQLqOgrWj9qdWJNLViUdoAGCyxk54+4yK+aODtERuE5MYd1JjkIupaUTYg0UcM468vGPf7x0SqxWbeF2ZOUz+IqNRMrkH4HpBnczd7qLp7SFC0IRbuyaXEpb52uGzq0pLddzCxoo2jjprMdNLqXJWmZACCLVLrP/u8jlIP3HjZX8uGUttrIKnu4h/XB0jbCIqBd1Y0KAwPQil0gfC5KFCOJf1Yc8EVt1r660vRj0Qo94R8IseoGrdiBPlk/pEsTMAO976RkoEQRlCgLUi1y6Jsgu/aRvwhMxx23d6RiWS2TQVjz0R9CRMQMpQkEXzwCXPDIX2NDVZAu5YyWDpbKE7t65WNtEJrBoEwfPZz9rofvko4+odTLpa1suYYVExoIR/QVSykUeC/5CD++B7bDksguvfnVX5xX5jaKfe0wWPJNc4PoF/Qwc1Jf2XwvyqW9EwrQjOGijiH6v+mDldm17RbR2hVy+6U1vauabb77XveiAePUjl8ifhT8Iv0mO59Iz0JWehUquJe024jv66JNspC7veI60RS7/6HN7kUtp6G/dF+QSqaVb2/JelGiaEr/vd1bvlERgKiCQ5HLMtWAGbtZvMNFhzSnhhkKcaouLDg2R5dLqJQZY7kcdnAGoFp0it46BoI7lrK+pPyMiyiq+KCwV9e9z+jPCjkyEJXDU/AbpP06s+uk2SA/1pL5YLVw7SExe1GFYilyvfnynftXzIHG9emVtbF+P6Ghj9EFeRxXk3QCOHIrBq6VL9/hdW+dirXGQv0kWfNp6us+kSTlYfkJ85xkYFou4b9h3ZVI2xGOQIFImqIjGuKULr1HrbjL6IZnqCMbaYFe9RFlhpU7VIevivCYmQdo6PNptfdSysqLWoUuj3p/XJwJvJAJJLt9ItMeYF+ukWDXxcMgHq4+tLMyW5wbRG2PRhkoK+WXlEQvYb/AaKrG8KBFIBBKBKYwAY4Lwn2H2z5zCxUjVZhACSS6naWWz2IjX4noKt4uV571WKU7TYr5ObUTS9ircaIg062JKIpAIJAKJQCKQCEwdBJJcTp26mJQmYja54Lgv227uSSU4DW7iOrUidzIu2WlQvFQxEUgEEoFEIBGY1ggkuZzW1ZfKJwKJQCKQCCQCiUAiMLUQSHI5teojtUkEEoFEIBFIBBKBRGBaI5DkclpXXyqfCCQCiUAikAgkAonA1EIgyeXUqo/UJhFIBBKBRCARSAQSgWmNQJLLaV19qXwikAgkAolAIpAIJAJTC4Ekl1OrPsauja177Inp1BQnsziRxCkacXxZnaGNps8///xyiolrnfhz5513dm7cbTNvm7Y7ss61u+66a7m33gjZSnb7UDpmry2+c4KMzYVroa8TW+hhM+Yu6UrXBsWXX355s+eee5bj4fbdd99yKkesKH/yySfLiUOOHux6Odli2P1BB+VF53vuuac57rjjOvOylVK9hdIwWDq+zwlIXSfrKJvf1Okw+AWmNtR2zONXvvKVWTYZj9/bZVAeJy05KSVOGYlr+73bNN2xeoG7k3Yc1Shvp1rV0s4z7vEeuCmjY0zpo634vy133XVXOdHHSSu1wM9pLs5P//CHP1xOibGJd5cMUy9tfYfBSN07DjRONoq8tT/tsC5z/dmJWeq6q/1LYxh9I694165OOumkiTzpL5/TTz+9nFIThzQ4EEK91/rUn9Wl9tSua+k5icepTzYTj7oatT1LR36R3jnnnFM2wY9y2EHC6TX1mePxm3f5XnPNNaXN0bMWO09ojzvssEM58Uwbp19KIpAITB6BJJeTx25a3HnZZZeV834dLadDNmg479wZvjVR0cE699YxkgYXZAC5XHbZZQvZrE/BMbgdcMAB5Zg3pFW67nGU33bbbTdx2kjX0WhAQ86QUUfeHXHEEbOcMmQ7JUfAtY/GrMFup2vgow/dEQdHpjk/2HGLjluTn9NClMcZ6o5uc0SdYxT972XQslHxIBkmLwMZPeSx9957T+QReR111FETp+cMiyWSBN+uoy7jLHSn5gyDX5QRqYLZMsss09x2223xdXnvVQblcSSjM6S7dJklkf/9Y4N/e7DWeJsEOEbS0YzXXXdd3zzbuNHNhtKO+3vf+973unpDNJw/7WxmxJm456qrrip6O47QpOeMM84o55U7lk97DyLl+mHqZbIYmTjZn9Z52/VRh9qfdhjl9YzCeZ999infab/acbv9D6tvAaL1R7tyBKNjZCNfz5Lz5+2fawKItHr+Ye24zbiufneuONLWVdfSc2ypI2IdzQm3Uduzo3RNGOUJD23J8/DAAw+UEpmk0K19vGoU13Ox3377lf4pTk6jx4UXXljKb6JBN21COaXdnphEWvmeCCQCgxFIcjkYo2l7hVNsNt9880L86j0wHcnmjGQDhw6WxYT10abk9WCn4D/+8Y/L+dHImsHX9awuTgdqn2Fu4NMps4S4rmsQlCYLhvOWnXW+zjrrzHLqxDDkqJ3uD3/4w3KmurOTa7npppuaFVdccWIAit8cyYZIs6jQcxQZJi9pIpcIlcG2l4yC5aiDcT9yHvogBAZSFhsDd1h5/d6vDMqkXe24445DHWnn+o033rhYPWu8WblZvlddddWyV2u/PEPn0A25XGONNQrRdZ53LdpskI8gl77TNtVLXU5tGg5ILmtnpD9MG3dvr3ruhZEyO1kK4dL2r7jiilr1ic+wYKlzTnx70tNu/64dRt8a+8ioV7tSNtY8mJm09DuXO9Ly3quuEU/Pu+fesZu98pXGMJMlEwiEePfddy/1ORlyqf/SP/DkKG+I/lAdaeP1pDp+z/dEIBEYjECSy8EYTdsruElZR7h5anJpkLn99tvLy+dbb721WPnuu+++zrKazbNwOcsc+WQh4NpsD1bycN43Uqezbg+CEncPFy7LiPPX11tvveJui4wnQy6RAoNE2yXG+nTRRReV888jfe+zQy6HyUsZe5GOWo9RsJzdwbjO12fYmEzQk+UQUbMZf0i/MkQdIeht4hP31++9CIdrbP6PcJx88smlzQyDG92Qy6233rq4trVv3xHv2tf+++9fJlDIZa0vXdqCqJhcISpCMYatFxa9XvrWedYYPfTQQwXr733ve81BBx1UCDpXcluUY1hyOay+NYGK/Pq1K9ZspNtzNbvkUn7c0rwJThHrl+8w5BI+yKp6U3+jksu6fvQHbXHe+9lnn53ksg1M/p8IDIlAksshgZqOlxlMDFDcz84dv/rqq18X46aTZsFE8gxSXWJA5Ja64YYbmgcffLAMEDfffHPXpbN810UudeSsMQiAwZlbHMlBdkh0+v0sb+10xbBJk44srAburgE7lJsdcjlMXjDtRTpCB++jYDm7g3Gdr88Iw+qrr948/PDDpd5ZstUJ3Um/Mjz//POlvey1116zWAHbecT//cglK+LOO+9cSBZ35TC40Q25FIKBALAwBYELqxOLoIkVchnEiJVU+2qL9JSdm17bGrZeRsXI9cJHom0jbyyDnq+2uHZYcjmsvu08/N+rXakLbnhtRPhMYOj5olsv6VXX+iIufxj/9re/7ZmvdAeRS/mzROuz1K//RyWXymOCK2ymq030Kl9+nwgkAsMhkORyOJym7VUGCbFErENi1BZccMEScykA38CuYz344IPLAM2N3iXIxMorr1xiK1k8kTiD0iBpk0DX33HHHcVywzVOuLJZHS2MIJMhl+4zYB166KElRnT++ecvMW277LJL58A9O+RymLwMdkjSAgss0Cy22GKve4n5RKxHwbIXCaDPoMHYNbXAOMgZNy19ERlu/JdffrlcGmVYeumlCxliIfIyIPuO9bq2dNbptz/3Ihyuo4tYOIQLMRwGN7qF/tqR2MRwjQtb2GabbZqnn356gly++OKLE9ZR93bJJZdcUoieBWbD1suoGCFA73nPe8rCEzrAhfUXYYNDLdIellwOq2+dfnzWrsRVq/uoYxZhYS9iUcUk0gUZE0Kh/2i3abGU4d5XJmmJseRW90KouZnFmYr5VtZR23Od78ILL1z6MnrClIxKLl2v3dCvV5sIjPI9EUgERkcgyeXomE3LO3SgSOK5555bFjvooLkTxUJZlGPgCOtPu4AGagTQAMx1vsIKKxRS2L6u/X+bXCJUXIHrrrtuc8EFFzQWG1mBKubO93438Iy6oKfOl1vTSnRxn2uttVYZONvu/tkll5Ffr7xgjSQpJyvq448/PsuLK5iMgmUMxkHCQwfv3I0RGzcMfmLeTDZYHtWBFyKDTFx//fUl6SgDkmGRhAmKuEzEUkhEvStArUvX537kkkWLVV38nDSHwY1uQS6RHveLn1V2ZOHYY48tZCMsl0Ekavd5W0/t0ATKMzJsvYyKEWwt8jr11FML5pdeemkpd8Qh1jpJe1hyOay+dfrxWbvi+uZBOOusswqOnnXEDRYhYbk0EXjsscdmac8IfkxMg1yyKlr8ZSLlHm3GBCBc86O2ZzG7LLSeJS5ri7MQdRMJz/Oo5DLaJIxhnZIIJALjRSDJ5XjxnFKpWQHOQhku51AOoTzyyCMLwWDV+eY3v1ksFc8++2xcMsu7GEqxUgYHaSKDVrx2iZhEcY4spm1yyb1mpbGXgSFeXG/SlP8w5KhO18BguyTWm/YgoWzyYJmtZbLkcti8XIckDVrQMwqW3IAG/a5wBEQdCYTvMPghk0giy03UgXcWLHGHVtd3lQExsMpaW7AV0LASA3kXuTOhEdJgQvHf//53KNzoFuRS+IM2zjUOT2TDKvaIN+Y2VR6Llliyu7a3Ui7u0Vg8M2y9/OMf/3idvr0w4iVA5q3+rjFnAWbRYyGsRRmHJZfD6uuZbEuQvHrlPze95/Hoo4+eCHsIcjlZt3g733G0Zzoj69riqORSfey2225la7auNmErIrHmJmIpiUAiMDoCSS5Hx2za3CGujkWry9plux4WEyvHkToLOlj7kJNaBMuLibN9C+uEgZqlaNttt30daeXW5N50fRe5tGWRfAyGtbCM0lNnPgw5apNLbrfapRtpGzSsaLYNUy2zQy6HyauLmNX5x+dRsGTthN0pp5wyC4lm7UWMgsgOwk+92Ov0Ix/5yOuIlkkGq7QFF73K4H4WKWTWgqxhpB+5tE8lwoUg9MqznYfranJpoRmibFGQ9ie/mly634RHOEe4z+s0lQOZCmyHrZcucindLoysuJYH638trkV8Y2FK/KaMw5LLYfWVV1u6yKVrEHYTEBZduoybXI6jPatLVtfJkEtl1Cb0OyyhtSivGFxtXL2lJAKJwOgIJLkcHbNpc4dN0e3fZlsWrrNwO3MbW8DBFeY7nalBhOWKWxH5Ii+88ELZU04Hfvfdd0+U2/2saNykriGshPagY9XiCiY1CYwVufaoYzmtBQlEdrjmxfyxYrEicbdxzcVLXCXLUJ2udLjKDATcb7F3p4EUWeqy9vUjl/Ky8Mlg2iXD5AVPlktWKRaa0D/e6Rhu5WGxZGlhgbUnobg12BgU5cOdrd4QyyCXvfCjjwE1YuTqMiL9rMgWeMG5l/XVZETIgUmEetXOxH22N8SPtINcqld5wIH+XO10sXBEfQ2Lm+tqcqn9mPDAIeIX2+SSjqyyCLrNy+GpjKxfiCnLZ72gbZh6CX2D2Ed5vbcxMnF6xzve0bn5/Le+9a1igYs9G90v7WHJpeuH0bfWLz73Ipfqg0tbqADyHeRSG4w6jPbs3bOpL4m67rJSR57eZ6c9y9+E2YSXFVi9heVS/dd6edb0KZ4L/YNFYEGyWc2Rev2jdqA9+M0kmEVU+/ddSiKQCIyOQJLL0TGbVnewTNqwWoyll42RrR4XZ1kTKJ2o2D2ESPC8a7yzBIl1agsCqWO3UbUAf9eKMeSiDqlJoMGP5Sg2zI5r4h05sZk3FzwSYlHOfPPNN8vL4Kw8dbpxP/JskKj1MTCywLQHiH7k0vX0RH56yaC8gnRYQNUug/9hpbwhw2DpWivVkXP1GOmqJwMqkkeCXHbhhxDawJ3FGhloC3LAyotswbkXuXQfC9xSSy1VNh9nOYS1E1K6BOFAwEJnui2yyCJlta89BoNoD4ub62pyKU/1hlyGlb5NLl3Dsi42E0GHIR2UQXuriWWUYVC9hL5d5FIagZFTd5BX2MK4LerCKmrPZLRVaY9CLqU5SN92vv7vRS79FgSZpfs3v/lNmfxFHbbfbVXGhTwsuZT+ZNqztuMZR/5MKHg9CHIpzrOtl+sD9za5dJ9JMRId/aN3/ZB9Q1mEUxKBRGByCCS5nBxu0+4uRDIC8dsxmHVhkBODBAudAbqfGAANjGGdi4Gx3z1z8jf60J0+Bsa2hXSYvFlU7J/HOtJPxpFXnf4oWLK4sFqqz351Wac/pz9bnMICNx0EaXA6EWISxLaX3qPUS6803sjvp5u+sJkK7Vn/KByElbbfNmZvZF1mXonAdEYgyeV0rr3UfewI2MqGSy+tFsNDixywJEaIxPB35pWJQCKQCCQC8yICSS7nxVrNMiUCiUAikAgkAolAIjCXEEhyOZeAz2wTgUQgEUgEEoFEIBGYFxFIcjkv1mqWKRFIBBKBRCARSAQSgbmEQJLLuQR8ZpsIJAKJQCKQCCQCicC8iECSy3mxVrNMiUAikAgkAolAIpAIzCUEklzOJeAz20QgEUgEEoFEIBFIBOZFBJJczou1mmVKBBKBRCARSAQSgURgLiGQ5HIuAT+vZuv4NMcu2i+yl9ic3TnlM1VgZLP3OSE2sreZ+W233VaSf/jhh8spOl152Z/SCTk2FCdzSq92Pjb6/tWvflU2ubdp/7e//e1yJGOXjvldIpAIJAKJwPRDIMnl9KuzKa0xIuGMcOdGd4nzpx0b+aMf/ajr53n+OwTOOeqOl0Oyxi3O2d5xxx2bT3/60yXpc889txy92JWP05WcrezYwDmpV50PPc4///xmm222KccxOg7RiUgnnXRSl4r5XSKQCCQCicA0RCDJ5TSstKms8iBy6WhGZ4TPVHL5t7/9rfnABz7QfOELX5jr5LJuR3Nar8gLoXbW9pZbblnIZXyf74lAIpAIJALzDgJJLuedupxUSR588MFivVpiiSWaBRdcsFl33XWbq6++uhCf3//+980+++xTLE3vfe97m4UWWqj8fvPNN0/k5Wzr4447rnnb297WLLvssuUYwA033LDTcvmLX/yief/7398sssgizXrrrddcccUVJZ877rijifSXX3755nOf+1zPM7NfeeWV5rDDDmuWW265ks5mm23WfPe7353Q5w9/+ENz8MEHN295y1uaxRZbrNlpp50m3L4uYqE744wzmjXWWKOUh6533nlnuf/GG29sDjjggAmXPSJ0zjnnNEceeWT5Xbn9vueeezZLL7108/nPf758/4Mf/KDZYostmoUXXrjo5fhIZK0trIqsdEsttVSz0korNUcccUTR55e//GWz9957l+8XX3zxojMLby/pV2ejWC7V72677dbcd999nXqZCCDC2gY899tvv8Y9XQKre+65p+CgftXjF7/4xXKMZuRD72uvvbZZZZVVmiWXXLJYL3/2s581n/3sZwvhpDustYX6tckmm5S2It9+9TuovbKSspq+853vLHW1+uqrl7Yg35REIBFIBBKB8SGQ5HJ8WE67lLgrkUmE6Yknnmgee+yxZt99923WXHPNEhOHDCICBuMrr7yyQTZ23XXXco+BXLwcYumayy+/vHnggQea7bbbrllggQU6yeVf//rX5vTTT2/e/va3FzeoWL/vf//7hYh84hOfKOlfeumlJb3DDz+8xOTVoCIwJ598cnHz3n///c1Pf/rTZq+99mre/e53F9KB0O2www6F4Nx9992NeEMu6I033rh56aWXCpGV/4orrlhIxuOPP16IKqL5zDPPNOFCfvnll0u28kN0lYlceOGFhZA6RxtRCsyQFETxJz/5SXPTTTcVfI466qgGmalFPKRYyHXWWafZfffdm3vvvbfojXALJUByuai5qjfYYIPOuMxBdTYKuVS/6hqpbuslLpZehxxySPPUU0818KS3cqr3tmgbCLN6044uuOCCZoUVVmjOO++8JvK55ZZbmmeffbbUiTalrv/4xz8WgnvooYc28DFRuOyyy8rL78iviQRcBtXvoPYqDlhdIZj0+NrXvlbSjvjUdpny/0QgEUgEEoHJIZDkcnK4zRN3IVGshwb4EIM4soUoGaxXXnnl5uyzz46fy+BvgPY7gomcfv3rX5/4/ec//3mz2mqrdZJLF9VucWTiYx/7WLPttts2f//73yfSQCqk0bbeITUHHXRQIXvc78TCGJZWxJXljG5IY4iFI4iMRSOsnixip5566oRLGok6+uijm0cffXQocgkPxIQgn+5t63/VVVc1a6+9dvPCCy+EGhPvbffzDTfcUDCudX7++eebtdZaq+gzceP/Pgyqs8mQS6SvrdeLL75Y6vbLX/7yBElmoYWxeqsFDp/5zGcKGVUPRF2deeaZhWTW5NK1tVv8P//5zwS5rNP0GdleddVVm0suuaRgPah+B7VXJFq7euihh0pWrNgsqVGf7fzz/0QgEUgEEoHJIZDkcnK4zTN3/fnPfy5WIu5IJIlr+61vfWshW0EKbr311onysgaKmfT+yCOPFDKHkIYESem1oKcml1zqW221VbEOIh0hLJJIQLir43vvd911V9GRW3X77bcvbmukkSC5iy66aLGwrb/++o0X9zu37gknnFDIKuJcl6dOexjLZVhJ3YecsGous8wyJa/IkzUQjiy5bQl8xFwiaVzHrJZBll3/2muvNR/84AdLiEGNS6TVr87GRS5ZXVmlhUqwSJoE3H777c2///3vUGPi3Xc777xzw/rcZdWMdoTEDksuTV60s8BJZoPq97nnniuW2Lp+6/bKer3pppuWMllUpk08/fTTE+XID4lAIpAIJALjQSDJ5XhwnJapsOpxvyIPYittS8NSxVrEkocUGOCRipB6sGYBYink2g5BjBCuYcglKxfX64knnjhhSZQONyxyWecb6XtnETzttNMm4vtYCbnYxVK6j0uWRSpe1113XUmTJRS5FOPZJV3kUjxg7RZHSlg7CWsrF7bfr7nmmon85MtKFu71Oq82uWRF3XzzzRuEMQRpRZy5mNtkbVCdjYtc0gX5RZDFiWoHwh20E3Vcyz//+c8SjsBl3kWGRyWXYlDhzCUPi5BB9TuovUoH/qzYwhJMosS4XnzxxZFFvicCiUAikAiMAYEkl2MAcbomYT9K5JArOwQxEivHwjhosEZ0EDtuyxALLlj3epFL1k5ExWpxLlExkV61RYyFi/sZwa3F9axS0ggR94gMI4YIHqJcu5ilyzrFSspyxZL5jW98I24vBJEFS0whUvqud72rxEG6ALkSj8qKSMRc1uTS7xa5tN3irJDILn3bUpNLREwIAEsnV3gIlzQ9kP22DKqzcZHLP/3pT7OETCC5cBNf2xWuIGbyQx/60CxkUJyuycoo5BIhR9ilVVtz4TCofge1VxZxYQhRL+qCxVWcLtxSEoFEIBFIBMaDQJLL8eA4LVNBpqzqtTgG0UHUNtpoo7Iy2OKHQYM11ynrGiLkXpa8448/vqzE7UUuXcd6aDELES9pwYaFHwZ9JMsKcOTi1VdfnQVX+R144IHld8SWztzkCKWV3GJAuabt8/i73/2uEFZxfyxUfkcGuf/p++STT5ZYQuTO/Vz7LKVWvdPJtSyciHYvckk5C3ikz5LKysaqySpGDySxLTBCRo855philVQOC2X233//BqFTZntUItc1SY50BtXZZMllW69f//rXRS+xlMolXavge5UrsGIFVE+szyYZ2kNNLpXDQhqLrBBJdW7RDnJKB5ZRMbLqQ1uIl7jgQfU7qL2aOKnrcM9Lzyp/7nz1nZIIJAKJQCIwHgSSXI4Hx2mZCisjK5G4Ou7B2AbIYhKuw0GDtUIb9HfZZZeShnQM1lztvcglAmVrGdvVsBiyLCJmtuexlY/tjugk7y4RVydGUV5iKekdBMj1Fp1YZMSFKy2xmeIawzKK/LGU+o0OthRCdhAiliwkT9oRu4n0cFGTtuXSd8jRV7/61ULI3ecFv3p7pHLz//6wAHK1y19IgHhR17IAuxcGrMnf+c53Ol3Mg+pssuSyrRfiF8QfTvBAzLj7uwR+cICna5UFzuq7TS6V19ZGJhUW6QS5tLAGmZ9vvvle99pjjz1Ktv3qd1B75c7n4oextqMOxPxyw6ckAolAIpAIjA+BJJfjw3JapsRiY1DnMqzj20YpDGJigOYuRTIGCeuc7WpYjkLEX/rO6u+uuL24zjudWbS4zWMxT/07HZTJopBYvVz/Ln35uL+OdXSN31jtWDZHcZUipvS3pVEQ2TrP+jP9uc1rvJBU9/pumPtnt85qfeJzl14IGWszS6TYykECb7jDsF89suq6Dm6jyqD6HZSeCZHQCm1W201JBBKBRCARGC8CSS7Hi2emlggkAolAIpAIJAKJwIxGIMnljK7+LHwikAgkAolAIpAIJALjRSDJ5XjxzNQSgUQgEUgEEoFEIBGY0QgkuZzR1Z+FTwQSgUQgEUgEEoFEYLwIJLkcL56ZWiKQCCQCiUAikAgkAjMagSSXM7r6s/CJQCKQCCQCiUAikAiMF4Ekl+PFM1NLBBKBRCARSAQSgURgRiOQ5HJGV38WPhFIBBKBRCARSAQSgfEikORyvHhmaolAIpAIJAKJQCKQCMxoBJJczujqz8InAolAIpAIJAKJQCIwXgSSXI4Xz0wtEUgEEoFEIBFIBBKBGY1AkssZXf1Z+EQgEUgEEoFEIBFIBMaLQJLL8eKZqSUCiUAikAgkAolAIjCjEUhyOaOrPwufCCQCiUAikAgkAonAeBFIcjlePDO1LPTngQAAAXJJREFURCARSAQSgUQgEUgEZjQCSS5ndPVn4ROBRCARSAQSgUQgERgvAkkux4tnppYIJAKJQCKQCCQCicCMRiDJ5Yyu/ix8IpAIJAKJQCKQCCQC40UgyeV48czUEoFEIBFIBBKBRCARmNEIJLmc0dWfhU8EEoFEIBFIBBKBRGC8CCS5HC+emVoikAgkAolAIpAIJAIzGoEklzO6+rPwiUAikAgkAolAIpAIjBeBJJfjxTNTSwQSgUQgEUgEEoFEYEYjkORyRld/Fj4RSAQSgUQgEUgEEoHxIpDkcrx4ZmqJQCKQCCQCiUAikAjMaASSXM7o6s/CJwKJQCKQCCQCiUAiMF4EklyOF89MLRFIBBKBRCARSAQSgRmNQJLLGV39WfhEIBFIBBKBRCARSATGi0CSy/HimaklAolAIpAIJAKJQCIwoxFIcjmjqz8LnwgkAolAIpAIJAKJwHgRSHI5XjwztUQgEUgEEoFEIBFIBGY0Av8Hk+Vk3G1Dy7sAAAAASUVORK5CYII=)"
      ]
    },
    {
      "cell_type": "code",
      "metadata": {
        "id": "IfIFd9MYozBP",
        "colab_type": "code",
        "colab": {
          "base_uri": "https://localhost:8080/",
          "height": 54
        },
        "outputId": "688c3c55-4c30-42ce-b84f-5c1441456aad"
      },
      "source": [
        "\"\"\"\n",
        "4.\n",
        "Write a Python Program to print the given string in the format specified in the sample output.\n",
        "\n",
        "WE, THE PEOPLE OF INDIA, having solemnly resolved to constitute India into a\n",
        "SOVEREIGN, SOCIALIST, SECULAR, DEMOCRATIC REPUBLIC and to secure to all\n",
        "its citizens\n",
        "\n",
        "\n",
        "Sample Output:\n",
        "\n",
        "WE, THE PEOPLE OF INDIA,\n",
        "        having solemnly resolved to constitute India into a SOVEREIGN, !\n",
        "            SOCIALIST, SECULAR, DEMOCRATIC REPUBLIC\n",
        "             and to secure to all its citizens\n",
        "\n",
        "NOTE: The solution shared through Github should contain the source code used  and\n",
        "the screenshot of the output.\n",
        "\"\"\""
      ],
      "execution_count": 3,
      "outputs": [
        {
          "output_type": "execute_result",
          "data": {
            "text/plain": [
              "'\\n4.\\nWrite a Python Program to print the given string in the format specified in the sample output.\\n\\nWE, THE PEOPLE OF INDIA, having solemnly resolved to constitute India into a\\nSOVEREIGN, SOCIALIST, SECULAR, DEMOCRATIC REPUBLIC and to secure to all\\nits citizens\\n\\n\\nSample Output:\\n\\nWE, THE PEOPLE OF INDIA,\\n        having solemnly resolved to constitute India into a SOVEREIGN, !\\n            SOCIALIST, SECULAR, DEMOCRATIC REPUBLIC\\n             and to secure to all its citizens\\n\\nNOTE: The solution shared through Github should contain the source code used  and\\nthe screenshot of the output.\\n'"
            ]
          },
          "metadata": {
            "tags": []
          },
          "execution_count": 3
        }
      ]
    },
    {
      "cell_type": "code",
      "metadata": {
        "id": "oMdQVGbm9wfB",
        "colab_type": "code",
        "outputId": "6898ae31-78c8-404e-a7bf-7965612a5fec",
        "colab": {
          "base_uri": "https://localhost:8080/",
          "height": 85
        }
      },
      "source": [
        "def print_in_format( s ):\n",
        "\n",
        "    tmp = s.split(\",\")\n",
        "    print(tmp[0]+ \",\" +tmp[1], \",\" )\n",
        "    print(\"\\t\", tmp[2]+ \", !\" )\n",
        "    print(\"\\t\\t\" , tmp[3] + \",\"  + tmp[4] + tmp[5].partition('and')[0] )\n",
        "    print(\"\\t\\t  \" , tmp[5].partition('and')[1] + tmp[5].partition('and')[2])\n",
        "    \n",
        "\n",
        "s = \"WE, THE PEOPLE OF INDIA, having solemnly resolved to constitute India into a SOVEREIGN, SOCIALIST, SECULAR, DEMOCRATIC REPUBLIC and to secure to all ts citizens\"\n",
        "print_in_format(s)"
      ],
      "execution_count": 0,
      "outputs": [
        {
          "output_type": "stream",
          "text": [
            "WE, THE PEOPLE OF INDIA ,\n",
            "\t  having solemnly resolved to constitute India into a SOVEREIGN, !\n",
            "\t\t  SOCIALIST, SECULAR DEMOCRATIC REPUBLIC \n",
            "\t\t   and to secure to all ts citizens\n"
          ],
          "name": "stdout"
        }
      ]
    },
    {
      "cell_type": "code",
      "metadata": {
        "id": "ZeW_iBqu9w--",
        "colab_type": "code",
        "colab": {}
      },
      "source": [
        ""
      ],
      "execution_count": 0,
      "outputs": []
    },
    {
      "cell_type": "code",
      "metadata": {
        "id": "uie37VU3-Vbp",
        "colab_type": "code",
        "colab": {}
      },
      "source": [
        ""
      ],
      "execution_count": 0,
      "outputs": []
    },
    {
      "cell_type": "code",
      "metadata": {
        "id": "R9cvmeUL_Vs2",
        "colab_type": "code",
        "colab": {}
      },
      "source": [
        ""
      ],
      "execution_count": 0,
      "outputs": []
    }
  ]
}